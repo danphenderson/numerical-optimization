{
 "cells": [
  {
   "cell_type": "markdown",
   "metadata": {},
   "source": [
    "# SIF TO Julia\n",
    "\n",
    "**Goal:** Obtaining the CUTEst.jl test problems in a native Julia to obtain the Hessian via an AD computation of the gradient of some objective function.  \n",
    "- The CUTE test set: https://www.cuter.rl.ac.uk/Problems/mastsif.shtml\n",
    "\n",
    "The aforementioned link downloads a tarball containing the SIF encoded test problems problems: https://bitbucket.org/optrove/sif/get/99c5b38e7d03.tar.gz\n",
    "\n",
    "From the CUTEst.jl build, (i.e. in the Pkg.add(\"CUTEst) step), the bitbucked link gets untarred as a .julia artifact.\n",
    "The entire installation utilizes the work of https://github.com/optimizers/homebrew-cutest for setting up the needed enviroment. **Thus, CUTEst.jl will only work on *Nix Machines**\n",
    "\n",
    "\n",
    "### Setup to have CUTEst.jl interface with CUTEst C:\n",
    "\n",
    "The MASTSIF enviroment variable must be exported in me _./zshrc_:  \n",
    "    export MASTSIF=\"/Users/daniel/.julia/artifacts/a7ea0d0aaf29a39ca0fe75588fc077cdd5b5ed54/optrove-sif-99c5b38e7d03\"\n",
    "\n",
    "Similarlly, the enviroment variable pointing to your architecture is appened to my _./zshrc_: \n",
    "    export MYARCH=\"/Users/daniel/.julia/artifacts/a5c5506e4bfa601362b9aeb09bb775994e3e65c4/libexec/CUTEst-2.0.3/versions\"\n",
    "    \n",
    "There are three other enviroment variables that must be exported, namely, SIFDECODE, CUTEST, and ARCHDEFS. The straightforward procedure is highlighted here: https://github.com/ralna/CUTEst/blob/master/doc/README#L62.\n",
    "Furthermore, you can set up enviroment variables to locate the manpages, but this isn't mandatory and they can be viewed on the ralna/CUTEst repositorey. \n",
    "\n",
    "***NOTE*** The long shasum directory in my export statements correspond to my installation of CUTEst.jl, the easiest way to determine yours is using a comand line tool such as locate or find."
   ]
  },
  {
   "cell_type": "markdown",
   "metadata": {},
   "source": [
    "# Other Optimization Collections with Native Julia Code\n",
    "\n",
    "It appears the man behind JuliaSmoothOptimizers orginization (which is a regular presenter at JuliaCon and his work is well accepted) also realizes the downfall with CUTEst.jl. His attempt to overcome the block-box nature of CUTEst.jl is unfinished, and apart of the https://github.com/JuliaSmoothOptimizers/OptimizationProblems.jl package. The majority of problems are small dimensional and constrained, however, there are some useful ones in there. However, there have been issues reported with errors in the translation. It appears a lot of students did this for an assignment. \n",
    "\n",
    "\n",
    "Another repository worth mentioning, which containes a lot of the CUTE family problems is found here: https://github.com/mpf/Optimization-Test-Problems.\n",
    "This is in the AMPL framework, but there can be deconded to native julia in a much more economical fashion.\n",
    "- TODO: see if there exist tools for the conversion, specifically, something better than this: https://github.com/jump-dev/AmplNLWriter.jl/issues"
   ]
  },
  {
   "cell_type": "code",
   "execution_count": null,
   "metadata": {},
   "outputs": [],
   "source": []
  },
  {
   "cell_type": "markdown",
   "metadata": {},
   "source": [
    "# NLPModel to ADNLPModel\n",
    "\n",
    "You can define an ADNLPModel, an NLPModel, that extends ForwardDiff.jl. To declare an ADNLPModel, you must specify an objective function and a initial iterate. I attempt to specify the objective as a black box CUTEst.jl instance... this surely doesn't work."
   ]
  },
  {
   "cell_type": "code",
   "execution_count": 1,
   "metadata": {},
   "outputs": [
    {
     "name": "stderr",
     "output_type": "stream",
     "text": [
      "┌ Info: call set_mastsif() to use the full SIF collection\n",
      "└ @ CUTEst /Users/daniel/.julia/packages/CUTEst/6yQNi/src/CUTEst.jl:73\n",
      "┌ Info: using problem repository\n",
      "│   ENV[\"MASTSIF\"] = /Users/daniel/.julia/artifacts/a7ea0d0aaf29a39ca0fe75588fc077cdd5b5ed54/optrove-sif-99c5b38e7d03\n",
      "└ @ CUTEst /Users/daniel/.julia/packages/CUTEst/6yQNi/src/CUTEst.jl:75\n"
     ]
    }
   ],
   "source": [
    "using CUTEst, NLPModels\n",
    "using ForwardDiff, ADNLPModels\n",
    "nlp = CUTEstModel(\"ROSENBR\")\n",
    "\n",
    "f = (z) -> obj(nlp, z)\n",
    "nlpAD = ADNLPModel(f, [-1.2; 1.0]) # things seem okay\n",
    "# fx = obj(nlpAD, nlpAD.meta.x0) # ... and this breaks it.\n",
    "\n",
    "finalize(nlp); # always finalize before moving to another CUTEst problem"
   ]
  },
  {
   "cell_type": "markdown",
   "metadata": {},
   "source": [
    "# Direct Homebrew Installation\n",
    "\n",
    "When you decode an SIF file, there are $3$ (sometimes 4) fortran files that are created and one \"*.d\" file. This, likely will not yeild an easy conversion to Julia but it is worth a try. My attempts to setup CUTEst.jl to interface with julia did not work when I tried to decode the SIF files. Maybe using the homebrew cutest installation will allow a decoding of the SIF files, an attempt at conversion. "
   ]
  },
  {
   "cell_type": "code",
   "execution_count": null,
   "metadata": {},
   "outputs": [],
   "source": []
  }
 ],
 "metadata": {
  "kernelspec": {
   "display_name": "Julia 1.6.2",
   "language": "julia",
   "name": "julia-1.6"
  },
  "language_info": {
   "file_extension": ".jl",
   "mimetype": "application/julia",
   "name": "julia",
   "version": "1.6.2"
  }
 },
 "nbformat": 4,
 "nbformat_minor": 4
}
