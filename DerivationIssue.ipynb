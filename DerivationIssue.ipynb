{
 "cells": [
  {
   "cell_type": "code",
   "execution_count": 19,
   "source": [
    "using LinearAlgebra, TRS"
   ],
   "outputs": [],
   "metadata": {}
  },
  {
   "cell_type": "markdown",
   "source": [
    "# Derivation Test\n",
    "Begin by defining (6.1), (6.2), & (6.8) using an SPD for the quadratic term for ease in finding the minima of both model functions "
   ],
   "metadata": {}
  },
  {
   "cell_type": "code",
   "execution_count": 25,
   "source": [
    "# Building problem\n",
    "n = 10;\n",
    "s = 2 # s because b collides with b below.\n",
    "H    = (H = rand(n, n); Symmetric(H'*H + I))\n",
    "Hinv = inv(H);\n",
    "g    = rand(n);\n",
    "h    = Hinv*g\n",
    "\n",
    "S    = orth(rand(n, 2s-1))\n",
    "Y    = Hinv*S\n",
    "\n",
    "Q = [Hinv*g g Y]\n",
    "\n",
    "# 6.1.\n",
    "# Want pₖ = arg min m_p(p) : ||p|| < Δ\n",
    "m_p(p)  = 0.5 * p' * Hinv * p     +   g' * p              \n",
    "\n",
    "# 6.2 (if Hₖ is full rank, directly from 6.1 with p = Hq).\n",
    "# Want qₖ =arg min m_q(q) : ||Hq|| < Δ\n",
    "m_q(q)  = 0.5 * q' * H * q  +  g' * H * q\n",
    "\n",
    "# My derivation of 6.7. (directly from 6.2 with q = Qa)\n",
    "# Want aₖ = arg min m_q(b) : ||HQa|| < Δ (which is equivalent to ||aᵀCa|| < Δ², where C is built below)\n",
    "m_a(a)  = 0.5 * a' * Q'*H*Q * a   +   g' * H * Q * a      \n",
    "\n",
    "\n",
    "# Article 6.7 using construction from 6.8\n",
    "# Want aₖ = arg min m_trs(a) : ||aᵀCa|| < Δ²\n",
    "P = Symmetric(Q'*H*Q)\n",
    "b = Q'*h\n",
    "C = Symmetric(Q' * H * H * Q)\n",
    "\n",
    "m_trs(a) = 0.5 * a' * P * a   +   b' * a "
   ],
   "outputs": [
    {
     "output_type": "execute_result",
     "data": {
      "text/plain": [
       "m_trs (generic function with 1 method)"
      ]
     },
     "metadata": {},
     "execution_count": 25
    }
   ],
   "metadata": {}
  },
  {
   "cell_type": "markdown",
   "source": [
    "### Testing (6.7) → (6.2) → (6.1)\n",
    "\n",
    "As shown in the output, something is wrong with m_trs"
   ],
   "metadata": {}
  },
  {
   "cell_type": "code",
   "execution_count": 26,
   "source": [
    "a0 = rand(5)\n",
    "q0 = Q * a0 \n",
    "p0 = H * q0 \n",
    "\n",
    "m_p(p0) , m_q(q0), m_a(a0), m_trs(a0) "
   ],
   "outputs": [
    {
     "output_type": "execute_result",
     "data": {
      "text/plain": [
       "(37.86066737284764, 37.86066737284763, 37.86066737284763, 6.484107793561708)"
      ]
     },
     "metadata": {},
     "execution_count": 26
    }
   ],
   "metadata": {}
  },
  {
   "cell_type": "markdown",
   "source": [
    "### Testing (6.1) → (6.2) → (6.7)"
   ],
   "metadata": {}
  },
  {
   "cell_type": "code",
   "execution_count": 36,
   "source": [
    "p0 = rand(10)\n",
    "q0 = Hinv*p0\n",
    "# note Q⁺Q ≠ I so I shoudn't expect third output to match the first two....\n",
    "# but it is a heck of a lot closer to the m_p \n",
    "a0 = pinv(Q, 1.5e-9)*q0 \n",
    "\n",
    "m_p(p0), m_q(q0), m_a(a0), m_trs(a0)"
   ],
   "outputs": [
    {
     "output_type": "execute_result",
     "data": {
      "text/plain": [
       "(3.2108850138802083, 3.210885013880206, 3.1562416444223977, 0.24598588980748498)"
      ]
     },
     "metadata": {},
     "execution_count": 36
    }
   ],
   "metadata": {}
  }
 ],
 "metadata": {
  "orig_nbformat": 4,
  "language_info": {
   "file_extension": ".jl",
   "name": "julia",
   "mimetype": "application/julia",
   "version": "1.6.2"
  },
  "kernelspec": {
   "name": "julia-1.6",
   "display_name": "Julia 1.6.2",
   "language": "julia"
  }
 },
 "nbformat": 4,
 "nbformat_minor": 2
}