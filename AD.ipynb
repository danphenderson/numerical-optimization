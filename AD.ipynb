{
 "cells": [
  {
   "cell_type": "markdown",
   "metadata": {},
   "source": [
    "# Intro\n",
    "Testing my AD workflow on A Rosenbrock Function. \n",
    "$$\\int_0^1$$\n",
    "Define rosen and simple manual AD code from rosen."
   ]
  },
  {
   "cell_type": "code",
   "execution_count": 43,
   "metadata": {},
   "outputs": [
    {
     "name": "stderr",
     "output_type": "stream",
     "text": [
      "\u001b[32m\u001b[1m   Resolving\u001b[22m\u001b[39m package versions...\n",
      "\u001b[32m\u001b[1m  No Changes\u001b[22m\u001b[39m to `C:\\Users\\Struther\\.julia\\environments\\v1.6\\Project.toml`\n",
      "\u001b[32m\u001b[1m  No Changes\u001b[22m\u001b[39m to `C:\\Users\\Struther\\.julia\\environments\\v1.6\\Manifest.toml`\n"
     ]
    }
   ],
   "source": [
    "import Pkg; Pkg.add(\"CUTEst\")\n",
    "using CUTEst"
   ]
  },
  {
   "cell_type": "code",
   "execution_count": 3,
   "metadata": {},
   "outputs": [],
   "source": [
    "function rosen(x)\n",
    "    fVal = 0.0\n",
    "    for i in 1:length(x)-1\n",
    "        fVal += 100.0*(x[i+1] - x[i]^2)^2 + (1.0-x[i])^2\n",
    "    end\n",
    "    return fVal\n",
    "end\n",
    "\n",
    "function rosend(x, dx)\n",
    "    fVal = df = 0.0; \n",
    "    for i in 1:length(x)-1\n",
    "       (fVal  += 100.0*(x[i+1] - x[i]^2)^2 + (1.0-x[i])^2;\n",
    "        df    += 200.0*(x[i+1] - x[i]^2)*(dx[i+1] -2.0*x[i]*dx[i] ) - 2.0*(1.0 - x[i])*dx[i])\n",
    "    end\n",
    "    return (fVal,df)\n",
    "end\n",
    "\n",
    "function rosendd(x, dx1, dx2)\n",
    "    fVal = df = ddf = 0.0;\n",
    "    for i in 1:length(x)-1\n",
    "       (fVal  += 100.0*(x[i+1] - x[i]^2)^2 + (1.0-x[i])^2;\n",
    "        df    += 200.0*(x[i+1] - x[i]^2)*(dx1[i+1] -2.0*x[i]*dx1[i] ) - 2.0*(1.0 - x[i])*dx1[i];\n",
    "        ddf   += \n",
    "            200.0*(dx2[i+1] - 2.0*x[i]*dx2[i])*(dx1[i+1] -2.0*x[i]*dx1[i]) \n",
    "          + 200.0*(x[i+1] - x[i]^2)*(0.0 -2.0*dx2[i]*dx1[i])  + 2.0*dx2[i]*dx1[i] )\n",
    "    end\n",
    "    return (fVal,df,ddf)\n",
    "end;"
   ]
  },
  {
   "cell_type": "markdown",
   "metadata": {},
   "source": [
    "Check Hand AD against Forward Diff"
   ]
  },
  {
   "cell_type": "code",
   "execution_count": 4,
   "metadata": {},
   "outputs": [
    {
     "data": {
      "text/plain": [
       "4.0194366942304644e-14"
      ]
     },
     "execution_count": 4,
     "metadata": {},
     "output_type": "execute_result"
    }
   ],
   "source": [
    "using ForwardDiff, SparseDiffTools, LinearAlgebra\n",
    "g = x -> ForwardDiff.gradient(rosen, x)\n",
    "H = x -> ForwardDiff.hessian(rosen, x)\n",
    "n=12;\n",
    "x = rand(n)\n",
    "dx1 = rand(n)\n",
    "dx2 = rand(n)\n",
    "(fVal,df,ddf) = rosendd(x, dx1, dx2)\n",
    "norm(map(norm,[df-g(x)'*dx1, ddf - dx2'*H(x)*dx1]))"
   ]
  },
  {
   "cell_type": "markdown",
   "metadata": {},
   "source": [
    "Using ForwardDiff etc in a couple of ways to compute the complete gradient and Hessian. These are all functions of x.\n",
    "g contucts a vector.  H contrsucts a matrix.  and J constructs a matrix-free operator for the Hessain that can be used just like a matrix.  All the Sparse tools can detect sparsity patterns and preallocate cache. "
   ]
  },
  {
   "cell_type": "code",
   "execution_count": 6,
   "metadata": {},
   "outputs": [
    {
     "name": "stdout",
     "output_type": "stream",
     "text": [
      "  0.000019 seconds (25 allocations: 1.602 KiB)\n",
      "  0.000014 seconds (25 allocations: 1.602 KiB)\n"
     ]
    },
    {
     "data": {
      "text/plain": [
       "#19 (generic function with 1 method)"
      ]
     },
     "execution_count": 6,
     "metadata": {},
     "output_type": "execute_result"
    }
   ],
   "source": [
    "using ForwardDiff, SparseDiffTools\n",
    "@time g = x -> ForwardDiff.gradient(rosen, x)\n",
    "@time H = x -> ForwardDiff.hessian(rosen, x)"
   ]
  },
  {
   "cell_type": "markdown",
   "metadata": {},
   "source": [
    "Testing the implementation using the underlying Dual structure.  It works for the first derivative with multiple directions. "
   ]
  },
  {
   "cell_type": "code",
   "execution_count": 2,
   "metadata": {},
   "outputs": [
    {
     "data": {
      "text/plain": [
       "ForwardDiff.Dual{1, V, N} where {V, N}"
      ]
     },
     "execution_count": 2,
     "metadata": {},
     "output_type": "execute_result"
    }
   ],
   "source": [
    "    ForwardDiff.Dual{1}"
   ]
  },
  {
   "cell_type": "code",
   "execution_count": 7,
   "metadata": {},
   "outputs": [
    {
     "data": {
      "text/plain": [
       "4-element Vector{Dual{1, Float64, 2}}:\n",
       " Dual{1}(0.5578534170156384,0.7546176671878859,0.6938672002974051)\n",
       " Dual{1}(0.16636054712892157,0.9061424012046599,0.5367495896712386)\n",
       " Dual{1}(0.45685682941551375,0.5651249560319593,0.615826918163086)\n",
       " Dual{1}(0.16132800640113865,0.3634499572348875,0.7202403333924938)"
      ]
     },
     "execution_count": 7,
     "metadata": {},
     "output_type": "execute_result"
    }
   ],
   "source": [
    "using ForwardDiff: Dual, Partials, value, partials, gradient\n",
    "DualTag1=1;\n",
    "n=4;\n",
    "x= rand(n); v1= rand(n); v2= rand(n);\n",
    "xdv = Dual{DualTag1}.(x, v1, v2)"
   ]
  },
  {
   "cell_type": "code",
   "execution_count": 8,
   "metadata": {},
   "outputs": [
    {
     "data": {
      "text/plain": [
       "(0.0, Partials(19.426474733632293, 40.73728361100226), (19.426474733632293, 40.73728361100227))"
      ]
     },
     "execution_count": 8,
     "metadata": {},
     "output_type": "execute_result"
    }
   ],
   "source": [
    "fd = rosen(xdv);\n",
    "(fd.value-rosen(x), fd.partials, (g(x)'*v1, g(x)'*v2))"
   ]
  },
  {
   "cell_type": "code",
   "execution_count": 9,
   "metadata": {},
   "outputs": [
    {
     "data": {
      "text/plain": [
       "Partials{2, Float64}"
      ]
     },
     "execution_count": 9,
     "metadata": {},
     "output_type": "execute_result"
    }
   ],
   "source": [
    "typeof( fd.partials)"
   ]
  },
  {
   "cell_type": "code",
   "execution_count": 18,
   "metadata": {},
   "outputs": [
    {
     "data": {
      "text/plain": [
       "3-element Vector{Vector{Float64}}:\n",
       " [0.5578534170156384, 0.16636054712892157, 0.45685682941551375, 0.16132800640113865]\n",
       " [0.7546176671878859, 0.9061424012046599, 0.5651249560319593, 0.3634499572348875]\n",
       " [0.6938672002974051, 0.5367495896712386, 0.615826918163086, 0.7202403333924938]"
      ]
     },
     "execution_count": 18,
     "metadata": {},
     "output_type": "execute_result"
    }
   ],
   "source": [
    "[x , v1, v2]"
   ]
  },
  {
   "cell_type": "code",
   "execution_count": 16,
   "metadata": {},
   "outputs": [
    {
     "data": {
      "text/plain": [
       "4×3 Matrix{Float64}:\n",
       " 0.557853  0.754618  0.693867\n",
       " 0.166361  0.906142  0.53675\n",
       " 0.456857  0.565125  0.615827\n",
       " 0.161328  0.36345   0.72024"
      ]
     },
     "execution_count": 16,
     "metadata": {},
     "output_type": "execute_result"
    }
   ],
   "source": [
    "[x  v1 v2]"
   ]
  },
  {
   "cell_type": "code",
   "execution_count": 13,
   "metadata": {},
   "outputs": [
    {
     "data": {
      "text/plain": [
       "12-element Vector{Float64}:\n",
       " 0.5578534170156384\n",
       " 0.16636054712892157\n",
       " 0.45685682941551375\n",
       " 0.16132800640113865\n",
       " 0.7546176671878859\n",
       " 0.9061424012046599\n",
       " 0.5651249560319593\n",
       " 0.3634499572348875\n",
       " 0.6938672002974051\n",
       " 0.5367495896712386\n",
       " 0.615826918163086\n",
       " 0.7202403333924938"
      ]
     },
     "execution_count": 13,
     "metadata": {},
     "output_type": "execute_result"
    }
   ],
   "source": [
    "[x; v1; v2]"
   ]
  },
  {
   "cell_type": "code",
   "execution_count": 11,
   "metadata": {},
   "outputs": [
    {
     "data": {
      "text/plain": [
       "4-element Vector{Dual{1, Float64, 2}}:\n",
       " Dual{1}(0.5578534170156384,0.7546176671878859,0.6938672002974051)\n",
       " Dual{1}(0.16636054712892157,0.9061424012046599,0.5367495896712386)\n",
       " Dual{1}(0.45685682941551375,0.5651249560319593,0.615826918163086)\n",
       " Dual{1}(0.16132800640113865,0.3634499572348875,0.7202403333924938)"
      ]
     },
     "execution_count": 11,
     "metadata": {},
     "output_type": "execute_result"
    }
   ],
   "source": [
    "xdv"
   ]
  },
  {
   "cell_type": "markdown",
   "metadata": {},
   "source": [
    "Lest try a single second derivative. "
   ]
  },
  {
   "cell_type": "code",
   "execution_count": 14,
   "metadata": {},
   "outputs": [
    {
     "data": {
      "text/plain": [
       "0.0"
      ]
     },
     "execution_count": 14,
     "metadata": {},
     "output_type": "execute_result"
    }
   ],
   "source": [
    "using ForwardDiff: Dual, Partials, value, partials, gradient\n",
    "n=6;\n",
    "x= rand(n); v1= rand(n); v2= rand(n); v3 = rand(n);\n",
    "u1= rand(n); u2= rand(n); \n",
    "xdv = Dual{2}.(Dual{1}.(x, v1, v2, v3),u1,u2)\n",
    "fd=rosen(xdv)\n",
    "(fd.value.value -rosen(x) )"
   ]
  },
  {
   "cell_type": "markdown",
   "metadata": {},
   "source": [
    "The partials field contains the gradients dotted with the us and the Hessian entries as partials.  This is confusing but resolvable"
   ]
  },
  {
   "cell_type": "code",
   "execution_count": 15,
   "metadata": {},
   "outputs": [
    {
     "data": {
      "text/plain": [
       "(1.4210854715202004e-14,)"
      ]
     },
     "execution_count": 15,
     "metadata": {},
     "output_type": "execute_result"
    }
   ],
   "source": [
    "using LinearAlgebra\n",
    "fdp = fd.partials\n",
    "(norm([fdp[1].value,fdp[2].value]-[g(x)'*u1,g(x)'*u2]),\n",
    ")"
   ]
  },
  {
   "cell_type": "markdown",
   "metadata": {},
   "source": [
    "Somehow the partial tag dissapears when you make an array! "
   ]
  },
  {
   "cell_type": "code",
   "execution_count": 16,
   "metadata": {},
   "outputs": [
    {
     "data": {
      "text/plain": [
       "3×2 Matrix{Float64}:\n",
       "  173.942     93.1415\n",
       "   47.7124    69.5203\n",
       " -130.386   -121.599"
      ]
     },
     "execution_count": 16,
     "metadata": {},
     "output_type": "execute_result"
    }
   ],
   "source": [
    "[fdp[1].partials  fdp[2].partials]"
   ]
  },
  {
   "cell_type": "code",
   "execution_count": 17,
   "metadata": {},
   "outputs": [
    {
     "data": {
      "text/plain": [
       "7.78360568894479e-14"
      ]
     },
     "execution_count": 17,
     "metadata": {},
     "output_type": "execute_result"
    }
   ],
   "source": [
    "using LinearAlgebra\n",
    "fdp = fd.partials\n",
    "norm([fdp[1].partials  fdp[2].partials]-[\n",
    "    u1'*H(x)*v1 u2'*H(x)*v1;\n",
    "    u1'*H(x)*v2 u2'*H(x)*v2;\n",
    "    u1'*H(x)*v3 u2'*H(x)*v3\n",
    "])"
   ]
  },
  {
   "cell_type": "raw",
   "metadata": {},
   "source": [
    "Timing the Dual overload and making an array of directions.  I do not kniow how to bundle the directions into a matrix and call the builder.  It looks as though my construction (which my not be the correct way to do it) is quite expensive while the evaluation call is not.  I should be able to build the Dual \"array\" directly.  "
   ]
  },
  {
   "cell_type": "code",
   "execution_count": 33,
   "metadata": {},
   "outputs": [
    {
     "name": "stdout",
     "output_type": "stream",
     "text": [
      "  0.000453 seconds (64 allocations: 58.312 KiB)\n",
      "  0.000013 seconds (1 allocation: 128 bytes)\n"
     ]
    },
    {
     "data": {
      "text/plain": [
       "Dual{2}(Dual{1}(9777.79462146386,7254.3724449877745,7631.306923585963,8558.02922094281,6987.698020081267),Dual{1}(6509.497911330822,-84.37677080974893,-1118.094415212752,-593.8841566220807,1149.925659777402),Dual{1}(8278.866783019565,777.5752239743123,-252.0972441865449,3691.9344578566947,-649.8305653868))"
      ]
     },
     "execution_count": 33,
     "metadata": {},
     "output_type": "execute_result"
    }
   ],
   "source": [
    "using ForwardDiff: Dual, Partials, value, partials, gradient\n",
    "n=465;\n",
    "x= rand(n); v1= rand(n); v2= rand(n); v3 = rand(n); v4 = rand(n);\n",
    "u1= rand(n); u2= rand(n); \n",
    "@time xdv = Dual{2}.(Dual{1}.(x, v1, v2, v3, v4),u1,u2)\n",
    "@time fd = rosen(xdv)"
   ]
  },
  {
   "cell_type": "markdown",
   "metadata": {},
   "source": [
    "Not sure if is for a good reason or not but the double dual array is padded to be sorta square! "
   ]
  },
  {
   "cell_type": "code",
   "execution_count": 35,
   "metadata": {},
   "outputs": [
    {
     "name": "stdout",
     "output_type": "stream",
     "text": [
      "  0.000036 seconds (5 allocations: 416 bytes)\n"
     ]
    },
    {
     "data": {
      "text/plain": [
       "3-element Vector{Dual{13, Dual{47, Float64, 2}, 1}}:\n",
       " Dual{13}(Dual{47}(0.37090676720479165,0.8292028429908826,0.7689828971624058),Dual{47}(0.44010535548695673,0.0,0.0))\n",
       " Dual{13}(Dual{47}(0.5272239549338538,0.017399310337576912,0.4192021550008953),Dual{47}(0.5596254923765875,0.0,0.0))\n",
       " Dual{13}(Dual{47}(0.40437868656116893,0.6479937211448588,0.32023258473282734),Dual{47}(0.6501770808386358,0.0,0.0))"
      ]
     },
     "execution_count": 35,
     "metadata": {},
     "output_type": "execute_result"
    }
   ],
   "source": [
    "using ForwardDiff: Dual, Partials, value, partials, gradient\n",
    "n=3;\n",
    "x= rand(n); v1= rand(n); v2= rand(n);\n",
    "u1 = rand(n); \n",
    "@time xdv = Dual{13}.(Dual{47}.(x, v1, v2), u1)"
   ]
  },
  {
   "cell_type": "code",
   "execution_count": 36,
   "metadata": {},
   "outputs": [
    {
     "data": {
      "text/plain": [
       "3-element Vector{Float64}:\n",
       " 0.8292028429908826\n",
       " 0.017399310337576912\n",
       " 0.6479937211448588"
      ]
     },
     "execution_count": 36,
     "metadata": {},
     "output_type": "execute_result"
    }
   ],
   "source": [
    "v1"
   ]
  },
  {
   "cell_type": "code",
   "execution_count": 38,
   "metadata": {},
   "outputs": [
    {
     "name": "stdout",
     "output_type": "stream",
     "text": [
      "  0.000004 seconds (1 allocation: 64 bytes)\n"
     ]
    },
    {
     "data": {
      "text/plain": [
       "Dual{13}(Dual{47}(17.40019285483623,-31.720706439642186,-16.229370237327856),Dual{47}(18.605555607166945,-76.92771703949657,-71.98073114361759))"
      ]
     },
     "execution_count": 38,
     "metadata": {},
     "output_type": "execute_result"
    }
   ],
   "source": [
    "@time fd = rosen(xdv)"
   ]
  },
  {
   "cell_type": "markdown",
   "metadata": {},
   "source": [
    "Testing a bit. "
   ]
  },
  {
   "cell_type": "code",
   "execution_count": 39,
   "metadata": {},
   "outputs": [
    {
     "ename": "LoadError",
     "evalue": "UndefVarError: J1 not defined",
     "output_type": "error",
     "traceback": [
      "UndefVarError: J1 not defined",
      "",
      "Stacktrace:",
      " [1] top-level scope",
      "   @ .\\timing.jl:210 [inlined]",
      " [2] top-level scope",
      "   @ .\\In[39]:0",
      " [3] eval",
      "   @ .\\boot.jl:360 [inlined]",
      " [4] include_string(mapexpr::typeof(REPL.softscope), mod::Module, code::String, filename::String)",
      "   @ Base .\\loading.jl:1094"
     ]
    }
   ],
   "source": [
    "using LinearAlgebra, SparseDiffTools\n",
    "n=123\n",
    "x = rand(n)\n",
    "dx= rand(n)\n",
    "Hdx=similar(x)\n",
    "J1dx=similar(x)\n",
    "@time JMat1 = J1(x)\n",
    "@time HMat=H(x)\n",
    "@time mul!(Hdx,HMat,dx) # pre-assigned output matrix multiplication gives about 10x speed up\n",
    "@time J1dx = JMat1*dx   \n",
    "# @time mul!(J1dx,JMat1,dx) # J1 does not work with pre-assigned output. \n",
    "norm(Hdx - J1dx)"
   ]
  },
  {
   "cell_type": "markdown",
   "metadata": {},
   "source": [
    "Trying to use the tools in Sparse Diff Tools.  First a whole bunch of variants"
   ]
  },
  {
   "cell_type": "code",
   "execution_count": 40,
   "metadata": {},
   "outputs": [
    {
     "name": "stdout",
     "output_type": "stream",
     "text": [
      "  0.410434 seconds (1.27 M allocations: 67.210 MiB, 3.90% gc time, 98.93% compilation time)\n",
      "  0.932944 seconds (2.87 M allocations: 164.002 MiB, 5.58% gc time, 99.93% compilation time)\n",
      "  0.428926 seconds (1.60 M allocations: 96.965 MiB, 6.12% gc time, 99.95% compilation time)\n",
      "  0.312750 seconds (799.15 k allocations: 46.177 MiB, 5.59% gc time, 99.92% compilation time)\n",
      "  0.282994 seconds (947.54 k allocations: 59.350 MiB, 10.66% gc time, 99.91% compilation time)\n",
      "  0.009052 seconds (14.37 k allocations: 1003.525 KiB, 99.06% compilation time)\n",
      "  0.066195 seconds (132.43 k allocations: 7.504 MiB, 99.61% compilation time)\n"
     ]
    },
    {
     "data": {
      "text/plain": [
       "(1.5812629337405462e-16, 8.625070419843983e-11, 7.160759670891936e-10, 0.0008724719083415524, 0.0, 7.160759670891936e-10)"
      ]
     },
     "execution_count": 40,
     "metadata": {},
     "output_type": "execute_result"
    }
   ],
   "source": [
    "using SparseDiffTools, LinearAlgebra\n",
    "n=123\n",
    "x=rand(n)\n",
    "dx=rand(n)\n",
    "@time J2dx = H(x)*dx\n",
    "@time J3dx = auto_jacvec(g,x,dx)\n",
    "@time J4dx = autonum_hesvec(rosen,x,dx)\n",
    "@time J5dx = numauto_hesvec(rosen,x,dx)\n",
    "@time J6dx = num_hesvec(rosen,x,dx)\n",
    "@time J7dx = num_hesvecgrad(g,x,dx)\n",
    "@time J8dx = auto_hesvecgrad(g,x,dx)\n",
    "(norm(J2dx-J3dx),norm(J2dx-J4dx),norm(J2dx-J5dx),norm(J2dx-J6dx),\n",
    "norm(J2dx-J2dx),norm(J2dx-J7dx) )./norm(J2dx)"
   ]
  },
  {
   "cell_type": "markdown",
   "metadata": {},
   "source": [
    "Trying to do the appropriate caching on the more efficent ones. "
   ]
  },
  {
   "cell_type": "code",
   "execution_count": null,
   "metadata": {},
   "outputs": [],
   "source": [
    "using SparseDiffTools, LinearAlgebra, ForwardDiff\n",
    "n=323\n",
    "x=rand(n)\n",
    "dx=rand(n)\n",
    "H0dx = H(x)*dx;\n",
    "HdxCache = similar(x)\n",
    "Hdx = similar(x)\n",
    "cache1 = similar(dx)    \n",
    "cache2 = similar(dx)\n",
    "cache3 = similar(dx)\n",
    "println(\"num hesvec -cache vs no cache \")\n",
    "@time num_hesvec!(HNumCdx, rosen, x, dx,\n",
    "    cache1,cache2, cache3)\n",
    "@time num_hesvec!(HNumNCdx, rosen,x,dx)\n",
    "(norm(H0dx-HNumCdx), norm(H0dx-HNumNCdx),norm(HNumCdx-HNumNCdx))./norm(H0dx)\n",
    "#\n",
    "println(\"autonum hesvec -cache vs no cache \")\n",
    "cache = ForwardDiff.GradientConfig(rosen,dx)\n",
    "HAutoCdx = similar(dx)\n",
    "HAutoNCdx = similar(dx)\n",
    "@time numauto_hesvec!(HAutoCdx,rosen,x,dx,\n",
    "                 cache, cache2, cache3)\n",
    "@time numauto_hesvec!(HAutoNCdx, rosen,x,dx)\n",
    "(norm(H0dx-HAutoCdx), norm(H0dx-HAutoNCdx),norm(HAutoCdx-HAutoNCdx))./norm(H0dx)\n",
    "#\n",
    "\n",
    "using ForwardDiff: Partials, Dual\n",
    "println(\"autonum hesvec -cache vs no cache \")\n",
    "HAutoCdx = similar(dx)\n",
    "HAutoNCdx = similar(dx)\n",
    "DeivVecTag = Vector{Float64}\n",
    "cache1 = similar(dx)\n",
    "cache2 = ForwardDiff.Dual{DeivVecTag}.(x, dx)\n",
    "cache3 = ForwardDiff.Dual{DeivVecTag}.(x, dx)\n",
    "#@time autonum_hesvec!(HAutoCdx,rosen,x,dx,   cache1, cache2, cache3)\n",
    "@time autonum_hesvec!(HAutoNCdx, rosen,x,dx)\n",
    "(norm(H0dx-HAutoCdx), norm(H0dx-HAutoNCdx),norm(HAutoCdx-HAutoNCdx))./norm(H0dx)"
   ]
  },
  {
   "cell_type": "code",
   "execution_count": null,
   "metadata": {},
   "outputs": [],
   "source": [
    "@time J2dx = H(x)*dx\n",
    "@time J3dx = auto_jacvec(g,x,dx)\n",
    "@time J5dx = numauto_hesvec(rosen,x,dx)\n",
    "@time J7dx = num_hesvecgrad(g,x,dx)\n",
    "@time J8dx = auto_hesvecgrad(g,x,dx)\n",
    "(norm(J2dx-J3dx),norm(J2dx-J5dx),\n",
    "norm(J2dx-J2dx),norm(J2dx-J7dx) )./norm(J2dx)"
   ]
  },
  {
   "cell_type": "code",
   "execution_count": null,
   "metadata": {},
   "outputs": [],
   "source": [
    "num_hesvec!(dy,f,x,dx,\n",
    "             cache1 = similar(v),\n",
    "             cache2 = similar(v),\n",
    "             cache3 = similar(v))\n",
    "\n",
    "num_hesvec(f,x,v)\n",
    "\n",
    "numauto_hesvec!(dy,f,x,v,\n",
    "                 cache = ForwardDiff.GradientConfig(f,v),\n",
    "                 cache1 = similar(v),\n",
    "                 cache2 = similar(v))\n",
    "\n",
    "numauto_hesvec(f,x,v)\n",
    "\n",
    "autonum_hesvec!(dy,f,x,v,\n",
    "                 cache1 = similar(v),\n",
    "                 cache2 = ForwardDiff.Dual{DeivVecTag}.(x, v),\n",
    "                 cache3 = ForwardDiff.Dual{DeivVecTag}.(x, v))\n"
   ]
  },
  {
   "cell_type": "code",
   "execution_count": null,
   "metadata": {},
   "outputs": [],
   "source": []
  }
 ],
 "metadata": {
  "kernelspec": {
   "display_name": "Julia 1.6.0",
   "language": "julia",
   "name": "julia-1.6"
  },
  "language_info": {
   "file_extension": ".jl",
   "mimetype": "application/julia",
   "name": "julia",
   "version": "1.6.0"
  }
 },
 "nbformat": 4,
 "nbformat_minor": 4
}
