{
 "cells": [
  {
   "cell_type": "code",
   "execution_count": 1,
   "id": "b079f526",
   "metadata": {},
   "outputs": [
    {
     "name": "stderr",
     "output_type": "stream",
     "text": [
      "\u001b[32m\u001b[1m  Activating\u001b[22m\u001b[39m project at `~/Desktop/numerical-optimization/julia`\n"
     ]
    }
   ],
   "source": [
    "using Pkg; Pkg.activate(\"..\");\n",
    "using Revise; includet(\"common.jl\"); includet(\"saddles.jl\")"
   ]
  },
  {
   "cell_type": "markdown",
   "id": "b9a9c892",
   "metadata": {},
   "source": [
    "Consider the Generalized Rosenbrock objective function\n",
    "in two dimensions\n",
    "\n",
    "$$\n",
    "f:\\mathbb{R}^2 \\rightarrow \\R\n",
    "$$\n",
    "\n",
    "with $x_0 \\in \\mathbb{R}^2$ given. We construct the level set \n",
    "$$ \n",
    "    L_{x_0} = \\{ x \\in \\mathbb{R}^2 ~:~ f(x) = f(x_0) \\}\n",
    "$$\n",
    "so that our domain is partitioned into $\\R^2 = L_{x_0} \\cup L^+_{x_0} \\cup L^-_{x_0}$\n",
    "where $L^+_{x_0}$ and $L^-_{x_0}$ denote the strict sublevel and superlevel sets that\n",
    "meet at our interface $L_{x_0}$\n"
   ]
  },
  {
   "cell_type": "code",
   "execution_count": 2,
   "id": "f1985492",
   "metadata": {},
   "outputs": [
    {
     "name": "stdout",
     "output_type": "stream",
     "text": [
      "Maximizer: [1.3319158163531295, 0.7198928313417405]\n",
      "Maximizer value: 112.22430598761436\n",
      "Minimizer: [0.999999999975569, 0.9999999999500155]\n",
      "Minimizer value: 1.0\n"
     ]
    }
   ],
   "source": [
    "prob = get_problem(\"genrose\", 2)\n",
    "\n",
    "res_max = maximize(prob, prob.meta.x0)\n",
    "res_min = minimize(prob, prob.meta.x0)\n",
    "\n",
    "x_max = res_max.minimizer\n",
    "x_min = res_min.minimizer\n",
    "\n",
    "fx_max = obj(prob, x_max)\n",
    "fx_min = obj(prob, x_min)\n",
    "\n",
    "println(\"Maximizer: \", x_max)\n",
    "println(\"Maximizer value: \", fx_max)\n",
    "println(\"Minimizer: \", x_min)\n",
    "println(\"Minimizer value: \", fx_min)\n"
   ]
  },
  {
   "cell_type": "code",
   "execution_count": 3,
   "id": "dd9645d7",
   "metadata": {},
   "outputs": [
    {
     "data": {
      "text/plain": [
       "77.1582070712794"
      ]
     },
     "metadata": {},
     "output_type": "display_data"
    }
   ],
   "source": [
    "# Running this shows the challengs of my x_min / x_max theory\n",
    "res_max = maximize(prob, x_max .+ 0.1 * randn(length(x_max)))\n",
    "obj(prob, res_max.minimizer)"
   ]
  },
  {
   "cell_type": "code",
   "execution_count": 24,
   "id": "d87c685b",
   "metadata": {},
   "outputs": [
    {
     "ename": "MakieCore.InvalidAttributeError",
     "evalue": "Invalid attributes zlabel, ylabel, title and xlabel for plot type Surface{Tuple{StepRangeLen{Float64, Base.TwicePrecision{Float64}, Base.TwicePrecision{Float64}, Int64}, StepRangeLen{Float64, Base.TwicePrecision{Float64}, Base.TwicePrecision{Float64}, Int64}, Matrix{Float32}}}.\n\nThe available plot attributes for Surface{Tuple{StepRangeLen{Float64, Base.TwicePrecision{Float64}, Base.TwicePrecision{Float64}, Int64}, StepRangeLen{Float64, Base.TwicePrecision{Float64}, Base.TwicePrecision{Float64}, Int64}, Matrix{Float32}}} are:\n\nalpha        colorscale   inspector_clear  material   space           visible\nbacklight    depth_shift  inspector_hover  model      specular               \nclip_planes  diffuse      inspector_label  nan_color  ssao                   \ncolor        fxaa         interpolate      overdraw   transformation         \ncolormap     highclip     invert_normals   shading    transparency           \ncolorrange   inspectable  lowclip          shininess  uv_transform           \n\n",
     "output_type": "error",
     "traceback": [
      "Invalid attributes zlabel, ylabel, title and xlabel for plot type Surface{Tuple{StepRangeLen{Float64, Base.TwicePrecision{Float64}, Base.TwicePrecision{Float64}, Int64}, StepRangeLen{Float64, Base.TwicePrecision{Float64}, Base.TwicePrecision{Float64}, Int64}, Matrix{Float32}}}.\n",
      "\n",
      "The available plot attributes for Surface{Tuple{StepRangeLen{Float64, Base.TwicePrecision{Float64}, Base.TwicePrecision{Float64}, Int64}, StepRangeLen{Float64, Base.TwicePrecision{Float64}, Base.TwicePrecision{Float64}, Int64}, Matrix{Float32}}} are:\n",
      "\n",
      "alpha        colorscale   inspector_clear  material   space           visible\n",
      "backlight    depth_shift  inspector_hover  model      specular               \n",
      "clip_planes  diffuse      inspector_label  nan_color  ssao                   \n",
      "color        fxaa         interpolate      overdraw   transformation         \n",
      "colormap     highclip     invert_normals   shading    transparency           \n",
      "colorrange   inspectable  lowclip          shininess  uv_transform           \n",
      "\n",
      "\n",
      "\n",
      "Stacktrace:\n",
      "  [1] validate_attribute_keys(plot::Surface{Tuple{StepRangeLen{Float64, Base.TwicePrecision{Float64}, Base.TwicePrecision{Float64}, Int64}, StepRangeLen{Float64, Base.TwicePrecision{Float64}, Base.TwicePrecision{Float64}, Int64}, Matrix{Float32}}})\n",
      "    @ MakieCore ~/.julia/packages/MakieCore/G1QFL/src/recipes.jl:923\n",
      "  [2] push!(scene::Scene, plot::Plot)\n",
      "    @ Makie ~/.julia/packages/Makie/dYDv2/src/scenes.jl:492\n",
      "  [3] plot!\n",
      "    @ ~/.julia/packages/Makie/dYDv2/src/interfaces.jl:449 [inlined]\n",
      "  [4] plot!(ax::LScene, plot::Surface{Tuple{StepRangeLen{Float64, Base.TwicePrecision{Float64}, Base.TwicePrecision{Float64}, Int64}, StepRangeLen{Float64, Base.TwicePrecision{Float64}, Base.TwicePrecision{Float64}, Int64}, Matrix{Float32}}})\n",
      "    @ Makie ~/.julia/packages/Makie/dYDv2/src/figureplotting.jl:412\n",
      "  [5] plot!(fa::Makie.FigureAxis, plot::Surface{Tuple{StepRangeLen{Float64, Base.TwicePrecision{Float64}, Base.TwicePrecision{Float64}, Int64}, StepRangeLen{Float64, Base.TwicePrecision{Float64}, Base.TwicePrecision{Float64}, Int64}, Matrix{Float32}}})\n",
      "    @ Makie ~/.julia/packages/Makie/dYDv2/src/figureplotting.jl:407\n",
      "  [6] _create_plot(::Function, ::Dict{Symbol, Any}, ::StepRangeLen{Float64, Base.TwicePrecision{Float64}, Base.TwicePrecision{Float64}, Int64}, ::Vararg{Any})\n",
      "    @ Makie ~/.julia/packages/Makie/dYDv2/src/figureplotting.jl:318\n",
      "  [7] #surface#46\n",
      "    @ ~/.julia/packages/MakieCore/G1QFL/src/recipes.jl:510 [inlined]\n",
      "  [8] surface\n",
      "    @ ~/.julia/packages/MakieCore/G1QFL/src/recipes.jl:508 [inlined]\n",
      "  [9] surface_plot(prob::ADNLPModel{Float64, Vector{Float64}, Vector{Int64}}, x1_range::StepRangeLen{Float64, Base.TwicePrecision{Float64}, Base.TwicePrecision{Float64}, Int64}, x2_range::StepRangeLen{Float64, Base.TwicePrecision{Float64}, Base.TwicePrecision{Float64}, Int64})\n",
      "    @ Main ~/Desktop/numerical-optimization/julia/saddles/jl_notebook_cell_df34fa98e69747e1a8f8a730347b8e2f_X11sZmlsZQ==.jl:3\n",
      " [10] top-level scope\n",
      "    @ ~/Desktop/numerical-optimization/julia/saddles/jl_notebook_cell_df34fa98e69747e1a8f8a730347b8e2f_X11sZmlsZQ==.jl:6"
     ]
    }
   ],
   "source": [
    "function surface_plot(prob, x1_range, x2_range)\n",
    "    z = [obj(prob, [x1, x2]) for x1 in x1_range, x2 in x2_range]\n",
    "    fig = surface(x1_range, x2_range, z, xlabel=\"x1\", ylabel=\"x2\", zlabel=\"f(x1, x2)\", title=\"Objective Function\")\n",
    "    return fig\n",
    "end\n",
    "\n",
    "surface_plot(prob, -2:0.001:2, -2:0.001:2)"
   ]
  },
  {
   "cell_type": "code",
   "execution_count": 9,
   "id": "02532f44",
   "metadata": {},
   "outputs": [],
   "source": [
    "using WGLMakie\n",
    "WGLMakie.activate!()"
   ]
  },
  {
   "cell_type": "code",
   "execution_count": 20,
   "id": "b45850d5",
   "metadata": {},
   "outputs": [
    {
     "data": {
      "text/plain": [
       "surface_plot_makie (generic function with 1 method)"
      ]
     },
     "metadata": {},
     "output_type": "display_data"
    }
   ],
   "source": [
    "function surface_plot_makie(prob, x1_range, x2_range)\n",
    "    xs = x1_range\n",
    "    ys = x2_range\n",
    "    zs = [obj(prob, [x1, x2]) for x1 in xs, x2 in ys]\n",
    "    fig = surface(xs, ys, zs, colormap = :Spectral)  # the surface\n",
    "    return fig\n",
    "end"
   ]
  },
  {
   "cell_type": "code",
   "execution_count": 11,
   "id": "f3f2f111",
   "metadata": {},
   "outputs": [
    {
     "data": {
      "text/html": [
       "<div class=\"bonito-fragment\" id=\"676d2a90-d752-4c77-a812-26f48ce6da6c\" data-jscall-id=\"root\">\n",
       "  <div>\n",
       "    <script src=\"./assets/4873cb3e570831127f4cbc347e8ba423847640b4-Bonito.bundled.js?dcc7c3c221753933ce52135103e4b701b582a1d7\" type=\"module\"></script>\n",
       "    <style></style>\n",
       "  </div>\n",
       "  <div>\n",
       "    <script type=\"module\">    Bonito.lock_loading(() => {\n",
       "        return Bonito.fetch_binary('./assets/07589175db7574124632a73d1540d39afe64b0b3-13326092244279481748.bin').then(msgs=> Bonito.init_session('676d2a90-d752-4c77-a812-26f48ce6da6c', msgs, 'root', false));\n",
       "    })\n",
       "</script>\n",
       "    <script type=\"module\">    import('/assets/57210e76f7715da3f0bf03a93b5ed18e230bc2eb-Websocket.bundled.js?8f34f9eb4b6cea888bca01b018fe9881f0eb5cc9').then(WS => {\n",
       "        WS.setup_connection({\n",
       "            proxy_url: '',\n",
       "            session_id: '676d2a90-d752-4c77-a812-26f48ce6da6c',\n",
       "            compression_enabled: false,\n",
       "            query: '',\n",
       "            main_connection: true\n",
       "        })\n",
       "    })\n",
       "</script>\n",
       "    <div style=\"width: 100%; height: 100%\" data-jscall-id=\"1\">\n",
       "      <canvas data-jp-suppress-context-menu style=\"display: block\" data-jscall-id=\"2\" data-lm-suppress-shortcuts=\"true\" tabindex=\"0\"></canvas>\n",
       "    </div>\n",
       "  </div>\n",
       "</div>"
      ]
     },
     "metadata": {},
     "output_type": "display_data"
    }
   ],
   "source": [
    "N = 60\n",
    "function xy_data(x, y)\n",
    "    r = sqrt(x^2 + y^2)\n",
    "    r == 0.0 ? 1f0 : (sin(r)/r)\n",
    "end\n",
    "l = range(-10, stop = 10, length = N)\n",
    "z = Float32[xy_data(x, y) for x in l, y in l]\n",
    "surface(\n",
    "    -1..1, -1..1, z,\n",
    "    colormap = :Spectral\n",
    ")"
   ]
  },
  {
   "cell_type": "markdown",
   "id": "f7a5ffa5",
   "metadata": {},
   "source": []
  },
  {
   "cell_type": "code",
   "execution_count": 23,
   "id": "529d3585",
   "metadata": {},
   "outputs": [
    {
     "data": {
      "text/plain": [
       "Surface{Tuple{StepRangeLen{Float64, Base.TwicePrecision{Float64}, Base.TwicePrecision{Float64}, Int64}, StepRangeLen{Float64, Base.TwicePrecision{Float64}, Base.TwicePrecision{Float64}, Int64}, Matrix{Float32}}}"
      ]
     },
     "metadata": {},
     "output_type": "display_data"
    }
   ],
   "source": [
    "surface_plot_makie(prob, -2:0.001:2, -2:0.001:2)"
   ]
  },
  {
   "cell_type": "code",
   "execution_count": 22,
   "id": "c54ad408",
   "metadata": {},
   "outputs": [],
   "source": [
    "using GLMakie\n",
    "GLMakie.activate!()"
   ]
  },
  {
   "cell_type": "code",
   "execution_count": 17,
   "id": "4b693333",
   "metadata": {},
   "outputs": [],
   "source": [
    "scatter(rand(100), rand(100))"
   ]
  },
  {
   "cell_type": "code",
   "execution_count": null,
   "id": "9040ca65",
   "metadata": {},
   "outputs": [],
   "source": []
  }
 ],
 "metadata": {
  "kernelspec": {
   "display_name": "Julia 1.11.4",
   "language": "julia",
   "name": "julia-1.11"
  },
  "language_info": {
   "file_extension": ".jl",
   "mimetype": "application/julia",
   "name": "julia",
   "version": "1.11.4"
  }
 },
 "nbformat": 4,
 "nbformat_minor": 5
}
