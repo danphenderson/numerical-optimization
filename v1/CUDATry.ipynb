{
 "cells": [
  {
   "cell_type": "raw",
   "metadata": {},
   "source": [
    "I tried the package you suggested.  I think it is more a discussion and\n",
    "organization thing."
   ]
  },
  {
   "cell_type": "code",
   "execution_count": 2,
   "metadata": {},
   "outputs": [
    {
     "name": "stderr",
     "output_type": "stream",
     "text": [
      "\u001b[32m\u001b[1m    Updating\u001b[22m\u001b[39m registry at `C:\\Users\\Struther\\.julia\\registries\\General`\n",
      "\u001b[32m\u001b[1m    Updating\u001b[22m\u001b[39m git-repo `https://github.com/JuliaRegistries/General.git`\n"
     ]
    },
    {
     "ename": "LoadError",
     "evalue": "The following package names could not be resolved:\n * JuliaGPU (not found in project, manifest or registry)\n",
     "output_type": "error",
     "traceback": [
      "The following package names could not be resolved:\n * JuliaGPU (not found in project, manifest or registry)\n",
      "",
      "Stacktrace:",
      "  [1] pkgerror(msg::String)",
      "    @ Pkg.Types C:\\buildbot\\worker\\package_win64\\build\\usr\\share\\julia\\stdlib\\v1.6\\Pkg\\src\\Types.jl:55",
      "  [2] ensure_resolved(ctx::Pkg.Types.Context, pkgs::Vector{Pkg.Types.PackageSpec}; registry::Bool)",
      "    @ Pkg.Types C:\\buildbot\\worker\\package_win64\\build\\usr\\share\\julia\\stdlib\\v1.6\\Pkg\\src\\Types.jl:862",
      "  [3] add(ctx::Pkg.Types.Context, pkgs::Vector{Pkg.Types.PackageSpec}; preserve::Pkg.Types.PreserveLevel, platform::Base.BinaryPlatforms.Platform, kwargs::Base.Iterators.Pairs{Union{}, Union{}, Tuple{}, NamedTuple{(), Tuple{}}})",
      "    @ Pkg.API C:\\buildbot\\worker\\package_win64\\build\\usr\\share\\julia\\stdlib\\v1.6\\Pkg\\src\\API.jl:186",
      "  [4] add",
      "    @ C:\\buildbot\\worker\\package_win64\\build\\usr\\share\\julia\\stdlib\\v1.6\\Pkg\\src\\API.jl:148 [inlined]",
      "  [5] add(pkgs::Vector{Pkg.Types.PackageSpec}; kwargs::Base.Iterators.Pairs{Union{}, Union{}, Tuple{}, NamedTuple{(), Tuple{}}})",
      "    @ Pkg.API C:\\buildbot\\worker\\package_win64\\build\\usr\\share\\julia\\stdlib\\v1.6\\Pkg\\src\\API.jl:73",
      "  [6] add",
      "    @ C:\\buildbot\\worker\\package_win64\\build\\usr\\share\\julia\\stdlib\\v1.6\\Pkg\\src\\API.jl:72 [inlined]",
      "  [7] #add#21",
      "    @ C:\\buildbot\\worker\\package_win64\\build\\usr\\share\\julia\\stdlib\\v1.6\\Pkg\\src\\API.jl:70 [inlined]",
      "  [8] add",
      "    @ C:\\buildbot\\worker\\package_win64\\build\\usr\\share\\julia\\stdlib\\v1.6\\Pkg\\src\\API.jl:70 [inlined]",
      "  [9] #add#20",
      "    @ C:\\buildbot\\worker\\package_win64\\build\\usr\\share\\julia\\stdlib\\v1.6\\Pkg\\src\\API.jl:69 [inlined]",
      " [10] add(pkg::String)",
      "    @ Pkg.API C:\\buildbot\\worker\\package_win64\\build\\usr\\share\\julia\\stdlib\\v1.6\\Pkg\\src\\API.jl:69",
      " [11] top-level scope",
      "    @ In[2]:1",
      " [12] eval",
      "    @ .\\boot.jl:360 [inlined]",
      " [13] include_string(mapexpr::typeof(REPL.softscope), mod::Module, code::String, filename::String)",
      "    @ Base .\\loading.jl:1094"
     ]
    }
   ],
   "source": [
    "import Pkg; Pkg.add(\"JuliaGPU\")"
   ]
  },
  {
   "cell_type": "code",
   "execution_count": 3,
   "metadata": {},
   "outputs": [
    {
     "ename": "LoadError",
     "evalue": "ArgumentError: Package JuliaGPU not found in current path:\n- Run `import Pkg; Pkg.add(\"JuliaGPU\")` to install the JuliaGPU package.\n",
     "output_type": "error",
     "traceback": [
      "ArgumentError: Package JuliaGPU not found in current path:\n- Run `import Pkg; Pkg.add(\"JuliaGPU\")` to install the JuliaGPU package.\n",
      "",
      "Stacktrace:",
      " [1] require(into::Module, mod::Symbol)",
      "   @ Base .\\loading.jl:871",
      " [2] eval",
      "   @ .\\boot.jl:360 [inlined]",
      " [3] include_string(mapexpr::typeof(REPL.softscope), mod::Module, code::String, filename::String)",
      "   @ Base .\\loading.jl:1094"
     ]
    }
   ],
   "source": [
    "using JuliaGPU"
   ]
  },
  {
   "cell_type": "markdown",
   "metadata": {},
   "source": [
    "This is what I tried before.  I did not dig into the errors.  I think we want to use CuArray according to the\n",
    "page https://github.com/JuliaGPU/CuArrays.jl it is deprecated in favor of \"CUDA\". CUDA grumbles and does not install. "
   ]
  },
  {
   "cell_type": "code",
   "execution_count": 5,
   "metadata": {},
   "outputs": [
    {
     "name": "stderr",
     "output_type": "stream",
     "text": [
      "\u001b[32m\u001b[1m   Resolving\u001b[22m\u001b[39m package versions...\n"
     ]
    },
    {
     "ename": "LoadError",
     "evalue": "Unsatisfiable requirements detected for package \u001b[38;5;2mNNlib [872c559c]\u001b[39m:\n \u001b[38;5;2mNNlib [872c559c]\u001b[39m log:\n ├─possible versions are: \u001b[38;5;2m0.3.2-0.7.26\u001b[39m or uninstalled\n ├─restricted by compatibility requirements with \u001b[38;5;10mLoopVectorization [bdcacae8]\u001b[39m to versions: \u001b[38;5;2m[0.3.2-0.7.1, 0.7.4-0.7.26]\u001b[39m or uninstalled\n │ └─\u001b[38;5;10mLoopVectorization [bdcacae8]\u001b[39m log:\n │   ├─possible versions are: \u001b[38;5;10m0.1.0-0.12.61\u001b[39m or uninstalled\n │   ├─restricted by julia compatibility requirements to versions: \u001b[38;5;10m0.9.0-0.12.61\u001b[39m or uninstalled\n │   └─restricted by compatibility requirements with \u001b[38;5;10mChainRulesCore [d360d2e6]\u001b[39m to versions: \u001b[38;5;10m[0.1.0-0.12.29, 0.12.31-0.12.61]\u001b[39m or uninstalled, leaving only versions: \u001b[38;5;10m[0.9.0-0.12.29, 0.12.31-0.12.61]\u001b[39m or uninstalled\n │     └─\u001b[38;5;10mChainRulesCore [d360d2e6]\u001b[39m log:\n │       ├─possible versions are: \u001b[38;5;10m0.1.0-1.3.0\u001b[39m or uninstalled\n │       └─restricted by compatibility requirements with \u001b[38;5;5mForwardDiff2 [994df76e]\u001b[39m to versions: \u001b[38;5;10m0.5.3-0.5.5\u001b[39m\n │         └─\u001b[38;5;5mForwardDiff2 [994df76e]\u001b[39m log:\n │           ├─possible versions are: \u001b[38;5;5m0.1.0-0.2.2\u001b[39m or uninstalled\n │           └─restricted to versions \u001b[38;5;5m*\u001b[39m by an explicit requirement, leaving only versions \u001b[38;5;5m0.1.0-0.2.2\u001b[39m\n ├─restricted by compatibility requirements with \u001b[38;5;10mChainRulesCore [d360d2e6]\u001b[39m to versions: \u001b[38;5;2m0.3.2-0.7.9\u001b[39m or uninstalled, leaving only versions: \u001b[38;5;2m[0.3.2-0.7.1, 0.7.4-0.7.9]\u001b[39m or uninstalled\n │ └─\u001b[38;5;10mChainRulesCore [d360d2e6]\u001b[39m log: see above\n ├─restricted by compatibility requirements with \u001b[38;5;2mZygote [e88e6eb3]\u001b[39m to versions: \u001b[38;5;2m0.3.2-0.6.6\u001b[39m\n │ └─\u001b[38;5;2mZygote [e88e6eb3]\u001b[39m log:\n │   ├─possible versions are: \u001b[38;5;2m0.1.0-0.6.19\u001b[39m or uninstalled\n │   ├─restricted to versions \u001b[38;5;2m*\u001b[39m by an explicit requirement, leaving only versions \u001b[38;5;2m0.1.0-0.6.19\u001b[39m\n │   └─restricted by compatibility requirements with \u001b[38;5;3mChainRules [082447d4]\u001b[39m to versions: \u001b[38;5;2m0.1.0-0.4.20\u001b[39m or uninstalled, leaving only versions: \u001b[38;5;2m0.1.0-0.4.20\u001b[39m\n │     └─\u001b[38;5;3mChainRules [082447d4]\u001b[39m log:\n │       ├─possible versions are: \u001b[38;5;3m0.0.1-1.5.0\u001b[39m or uninstalled\n │       ├─restricted by compatibility requirements with \u001b[38;5;5mForwardDiff2 [994df76e]\u001b[39m to versions: \u001b[38;5;3m0.3.1-0.3.4\u001b[39m\n │       │ └─\u001b[38;5;5mForwardDiff2 [994df76e]\u001b[39m log: see above\n │       └─restricted by compatibility requirements with \u001b[38;5;10mChainRulesCore [d360d2e6]\u001b[39m to versions: \u001b[38;5;3m[0.0.1, 0.3.0-0.3.1]\u001b[39m or uninstalled, leaving only versions: \u001b[38;5;3m0.3.1\u001b[39m\n │         └─\u001b[38;5;10mChainRulesCore [d360d2e6]\u001b[39m log: see above\n └─restricted by compatibility requirements with \u001b[38;5;11mCUDA [052768ef]\u001b[39m to versions: \u001b[38;5;2m0.7.7-0.7.26\u001b[39m — no versions left\n   └─\u001b[38;5;11mCUDA [052768ef]\u001b[39m log:\n     ├─possible versions are: \u001b[38;5;11m0.1.0-3.3.4\u001b[39m or uninstalled\n     ├─restricted to versions \u001b[38;5;11m*\u001b[39m by an explicit requirement, leaving only versions \u001b[38;5;11m0.1.0-3.3.4\u001b[39m\n     ├─restricted by julia compatibility requirements to versions: \u001b[38;5;11m[2.3.0, 2.5.0-3.3.4]\u001b[39m or uninstalled, leaving only versions: \u001b[38;5;11m[2.3.0, 2.5.0-3.3.4]\u001b[39m\n     └─restricted by compatibility requirements with \u001b[38;5;3mSpecialFunctions [276daf66]\u001b[39m to versions: \u001b[38;5;11m0.1.0-2.6.3\u001b[39m or uninstalled, leaving only versions: \u001b[38;5;11m[2.3.0, 2.5.0-2.6.3]\u001b[39m\n       └─\u001b[38;5;3mSpecialFunctions [276daf66]\u001b[39m log:\n         ├─possible versions are: \u001b[38;5;3m0.7.0-1.6.0\u001b[39m or uninstalled\n         ├─restricted by compatibility requirements with \u001b[38;5;11mSparsityDetection [684fba80]\u001b[39m to versions: \u001b[38;5;3m0.7.0-1.6.0\u001b[39m\n         │ └─\u001b[38;5;11mSparsityDetection [684fba80]\u001b[39m log:\n         │   ├─possible versions are: \u001b[38;5;11m0.1.0-0.3.4\u001b[39m or uninstalled\n         │   ├─restricted to versions \u001b[38;5;11m*\u001b[39m by an explicit requirement, leaving only versions \u001b[38;5;11m0.1.0-0.3.4\u001b[39m\n         │   └─restricted by compatibility requirements with \u001b[38;5;11mCassette [7057c7e9]\u001b[39m to versions: \u001b[38;5;11m0.1.1-0.3.4\u001b[39m or uninstalled, leaving only versions: \u001b[38;5;11m0.1.1-0.3.4\u001b[39m\n         │     └─\u001b[38;5;11mCassette [7057c7e9]\u001b[39m log:\n         │       ├─possible versions are: \u001b[38;5;11m0.1.0-0.3.7\u001b[39m or uninstalled\n         │       ├─restricted by compatibility requirements with \u001b[38;5;11mSparsityDetection [684fba80]\u001b[39m to versions: \u001b[38;5;11m0.1.0-0.3.7\u001b[39m\n         │       │ └─\u001b[38;5;11mSparsityDetection [684fba80]\u001b[39m log: see above\n         │       └─restricted by compatibility requirements with \u001b[38;5;5mForwardDiff2 [994df76e]\u001b[39m to versions: \u001b[38;5;11m0.3.0-0.3.7\u001b[39m\n         │         └─\u001b[38;5;5mForwardDiff2 [994df76e]\u001b[39m log: see above\n         ├─restricted by compatibility requirements with \u001b[38;5;10mChainRulesCore [d360d2e6]\u001b[39m to versions: \u001b[38;5;3m0.7.0-1.1.0\u001b[39m or uninstalled, leaving only versions: \u001b[38;5;3m0.7.0-1.1.0\u001b[39m\n         │ └─\u001b[38;5;10mChainRulesCore [d360d2e6]\u001b[39m log: see above\n         └─restricted by compatibility requirements with \u001b[38;5;2mZygote [e88e6eb3]\u001b[39m to versions: \u001b[38;5;3m0.7.0-0.10.3\u001b[39m\n           └─\u001b[38;5;2mZygote [e88e6eb3]\u001b[39m log: see above",
     "output_type": "error",
     "traceback": [
      "Unsatisfiable requirements detected for package \u001b[38;5;2mNNlib [872c559c]\u001b[39m:\n \u001b[38;5;2mNNlib [872c559c]\u001b[39m log:\n ├─possible versions are: \u001b[38;5;2m0.3.2-0.7.26\u001b[39m or uninstalled\n ├─restricted by compatibility requirements with \u001b[38;5;10mLoopVectorization [bdcacae8]\u001b[39m to versions: \u001b[38;5;2m[0.3.2-0.7.1, 0.7.4-0.7.26]\u001b[39m or uninstalled\n │ └─\u001b[38;5;10mLoopVectorization [bdcacae8]\u001b[39m log:\n │   ├─possible versions are: \u001b[38;5;10m0.1.0-0.12.61\u001b[39m or uninstalled\n │   ├─restricted by julia compatibility requirements to versions: \u001b[38;5;10m0.9.0-0.12.61\u001b[39m or uninstalled\n │   └─restricted by compatibility requirements with \u001b[38;5;10mChainRulesCore [d360d2e6]\u001b[39m to versions: \u001b[38;5;10m[0.1.0-0.12.29, 0.12.31-0.12.61]\u001b[39m or uninstalled, leaving only versions: \u001b[38;5;10m[0.9.0-0.12.29, 0.12.31-0.12.61]\u001b[39m or uninstalled\n │     └─\u001b[38;5;10mChainRulesCore [d360d2e6]\u001b[39m log:\n │       ├─possible versions are: \u001b[38;5;10m0.1.0-1.3.0\u001b[39m or uninstalled\n │       └─restricted by compatibility requirements with \u001b[38;5;5mForwardDiff2 [994df76e]\u001b[39m to versions: \u001b[38;5;10m0.5.3-0.5.5\u001b[39m\n │         └─\u001b[38;5;5mForwardDiff2 [994df76e]\u001b[39m log:\n │           ├─possible versions are: \u001b[38;5;5m0.1.0-0.2.2\u001b[39m or uninstalled\n │           └─restricted to versions \u001b[38;5;5m*\u001b[39m by an explicit requirement, leaving only versions \u001b[38;5;5m0.1.0-0.2.2\u001b[39m\n ├─restricted by compatibility requirements with \u001b[38;5;10mChainRulesCore [d360d2e6]\u001b[39m to versions: \u001b[38;5;2m0.3.2-0.7.9\u001b[39m or uninstalled, leaving only versions: \u001b[38;5;2m[0.3.2-0.7.1, 0.7.4-0.7.9]\u001b[39m or uninstalled\n │ └─\u001b[38;5;10mChainRulesCore [d360d2e6]\u001b[39m log: see above\n ├─restricted by compatibility requirements with \u001b[38;5;2mZygote [e88e6eb3]\u001b[39m to versions: \u001b[38;5;2m0.3.2-0.6.6\u001b[39m\n │ └─\u001b[38;5;2mZygote [e88e6eb3]\u001b[39m log:\n │   ├─possible versions are: \u001b[38;5;2m0.1.0-0.6.19\u001b[39m or uninstalled\n │   ├─restricted to versions \u001b[38;5;2m*\u001b[39m by an explicit requirement, leaving only versions \u001b[38;5;2m0.1.0-0.6.19\u001b[39m\n │   └─restricted by compatibility requirements with \u001b[38;5;3mChainRules [082447d4]\u001b[39m to versions: \u001b[38;5;2m0.1.0-0.4.20\u001b[39m or uninstalled, leaving only versions: \u001b[38;5;2m0.1.0-0.4.20\u001b[39m\n │     └─\u001b[38;5;3mChainRules [082447d4]\u001b[39m log:\n │       ├─possible versions are: \u001b[38;5;3m0.0.1-1.5.0\u001b[39m or uninstalled\n │       ├─restricted by compatibility requirements with \u001b[38;5;5mForwardDiff2 [994df76e]\u001b[39m to versions: \u001b[38;5;3m0.3.1-0.3.4\u001b[39m\n │       │ └─\u001b[38;5;5mForwardDiff2 [994df76e]\u001b[39m log: see above\n │       └─restricted by compatibility requirements with \u001b[38;5;10mChainRulesCore [d360d2e6]\u001b[39m to versions: \u001b[38;5;3m[0.0.1, 0.3.0-0.3.1]\u001b[39m or uninstalled, leaving only versions: \u001b[38;5;3m0.3.1\u001b[39m\n │         └─\u001b[38;5;10mChainRulesCore [d360d2e6]\u001b[39m log: see above\n └─restricted by compatibility requirements with \u001b[38;5;11mCUDA [052768ef]\u001b[39m to versions: \u001b[38;5;2m0.7.7-0.7.26\u001b[39m — no versions left\n   └─\u001b[38;5;11mCUDA [052768ef]\u001b[39m log:\n     ├─possible versions are: \u001b[38;5;11m0.1.0-3.3.4\u001b[39m or uninstalled\n     ├─restricted to versions \u001b[38;5;11m*\u001b[39m by an explicit requirement, leaving only versions \u001b[38;5;11m0.1.0-3.3.4\u001b[39m\n     ├─restricted by julia compatibility requirements to versions: \u001b[38;5;11m[2.3.0, 2.5.0-3.3.4]\u001b[39m or uninstalled, leaving only versions: \u001b[38;5;11m[2.3.0, 2.5.0-3.3.4]\u001b[39m\n     └─restricted by compatibility requirements with \u001b[38;5;3mSpecialFunctions [276daf66]\u001b[39m to versions: \u001b[38;5;11m0.1.0-2.6.3\u001b[39m or uninstalled, leaving only versions: \u001b[38;5;11m[2.3.0, 2.5.0-2.6.3]\u001b[39m\n       └─\u001b[38;5;3mSpecialFunctions [276daf66]\u001b[39m log:\n         ├─possible versions are: \u001b[38;5;3m0.7.0-1.6.0\u001b[39m or uninstalled\n         ├─restricted by compatibility requirements with \u001b[38;5;11mSparsityDetection [684fba80]\u001b[39m to versions: \u001b[38;5;3m0.7.0-1.6.0\u001b[39m\n         │ └─\u001b[38;5;11mSparsityDetection [684fba80]\u001b[39m log:\n         │   ├─possible versions are: \u001b[38;5;11m0.1.0-0.3.4\u001b[39m or uninstalled\n         │   ├─restricted to versions \u001b[38;5;11m*\u001b[39m by an explicit requirement, leaving only versions \u001b[38;5;11m0.1.0-0.3.4\u001b[39m\n         │   └─restricted by compatibility requirements with \u001b[38;5;11mCassette [7057c7e9]\u001b[39m to versions: \u001b[38;5;11m0.1.1-0.3.4\u001b[39m or uninstalled, leaving only versions: \u001b[38;5;11m0.1.1-0.3.4\u001b[39m\n         │     └─\u001b[38;5;11mCassette [7057c7e9]\u001b[39m log:\n         │       ├─possible versions are: \u001b[38;5;11m0.1.0-0.3.7\u001b[39m or uninstalled\n         │       ├─restricted by compatibility requirements with \u001b[38;5;11mSparsityDetection [684fba80]\u001b[39m to versions: \u001b[38;5;11m0.1.0-0.3.7\u001b[39m\n         │       │ └─\u001b[38;5;11mSparsityDetection [684fba80]\u001b[39m log: see above\n         │       └─restricted by compatibility requirements with \u001b[38;5;5mForwardDiff2 [994df76e]\u001b[39m to versions: \u001b[38;5;11m0.3.0-0.3.7\u001b[39m\n         │         └─\u001b[38;5;5mForwardDiff2 [994df76e]\u001b[39m log: see above\n         ├─restricted by compatibility requirements with \u001b[38;5;10mChainRulesCore [d360d2e6]\u001b[39m to versions: \u001b[38;5;3m0.7.0-1.1.0\u001b[39m or uninstalled, leaving only versions: \u001b[38;5;3m0.7.0-1.1.0\u001b[39m\n         │ └─\u001b[38;5;10mChainRulesCore [d360d2e6]\u001b[39m log: see above\n         └─restricted by compatibility requirements with \u001b[38;5;2mZygote [e88e6eb3]\u001b[39m to versions: \u001b[38;5;3m0.7.0-0.10.3\u001b[39m\n           └─\u001b[38;5;2mZygote [e88e6eb3]\u001b[39m log: see above",
      "",
      "Stacktrace:",
      "  [1] propagate_constraints!(graph::Pkg.Resolve.Graph, sources::Set{Int64}; log_events::Bool)",
      "    @ Pkg.Resolve C:\\buildbot\\worker\\package_win64\\build\\usr\\share\\julia\\stdlib\\v1.6\\Pkg\\src\\Resolve\\graphtype.jl:1048",
      "  [2] propagate_constraints! (repeats 2 times)",
      "    @ C:\\buildbot\\worker\\package_win64\\build\\usr\\share\\julia\\stdlib\\v1.6\\Pkg\\src\\Resolve\\graphtype.jl:989 [inlined]",
      "  [3] simplify_graph!(graph::Pkg.Resolve.Graph, sources::Set{Int64}; clean_graph::Bool)",
      "    @ Pkg.Resolve C:\\buildbot\\worker\\package_win64\\build\\usr\\share\\julia\\stdlib\\v1.6\\Pkg\\src\\Resolve\\graphtype.jl:1503",
      "  [4] simplify_graph! (repeats 2 times)",
      "    @ C:\\buildbot\\worker\\package_win64\\build\\usr\\share\\julia\\stdlib\\v1.6\\Pkg\\src\\Resolve\\graphtype.jl:1503 [inlined]",
      "  [5] resolve_versions!(ctx::Pkg.Types.Context, pkgs::Vector{Pkg.Types.PackageSpec})",
      "    @ Pkg.Operations C:\\buildbot\\worker\\package_win64\\build\\usr\\share\\julia\\stdlib\\v1.6\\Pkg\\src\\Operations.jl:404",
      "  [6] targeted_resolve(ctx::Pkg.Types.Context, pkgs::Vector{Pkg.Types.PackageSpec}, preserve::Pkg.Types.PreserveLevel)",
      "    @ Pkg.Operations C:\\buildbot\\worker\\package_win64\\build\\usr\\share\\julia\\stdlib\\v1.6\\Pkg\\src\\Operations.jl:1208",
      "  [7] tiered_resolve(ctx::Pkg.Types.Context, pkgs::Vector{Pkg.Types.PackageSpec})",
      "    @ Pkg.Operations C:\\buildbot\\worker\\package_win64\\build\\usr\\share\\julia\\stdlib\\v1.6\\Pkg\\src\\Operations.jl:1194",
      "  [8] _resolve",
      "    @ C:\\buildbot\\worker\\package_win64\\build\\usr\\share\\julia\\stdlib\\v1.6\\Pkg\\src\\Operations.jl:1214 [inlined]",
      "  [9] add(ctx::Pkg.Types.Context, pkgs::Vector{Pkg.Types.PackageSpec}, new_git::Vector{Base.UUID}; preserve::Pkg.Types.PreserveLevel, platform::Base.BinaryPlatforms.Platform)",
      "    @ Pkg.Operations C:\\buildbot\\worker\\package_win64\\build\\usr\\share\\julia\\stdlib\\v1.6\\Pkg\\src\\Operations.jl:1229",
      " [10] add(ctx::Pkg.Types.Context, pkgs::Vector{Pkg.Types.PackageSpec}; preserve::Pkg.Types.PreserveLevel, platform::Base.BinaryPlatforms.Platform, kwargs::Base.Iterators.Pairs{Union{}, Union{}, Tuple{}, NamedTuple{(), Tuple{}}})",
      "    @ Pkg.API C:\\buildbot\\worker\\package_win64\\build\\usr\\share\\julia\\stdlib\\v1.6\\Pkg\\src\\API.jl:197",
      " [11] add",
      "    @ C:\\buildbot\\worker\\package_win64\\build\\usr\\share\\julia\\stdlib\\v1.6\\Pkg\\src\\API.jl:148 [inlined]",
      " [12] add(pkgs::Vector{Pkg.Types.PackageSpec}; kwargs::Base.Iterators.Pairs{Union{}, Union{}, Tuple{}, NamedTuple{(), Tuple{}}})",
      "    @ Pkg.API C:\\buildbot\\worker\\package_win64\\build\\usr\\share\\julia\\stdlib\\v1.6\\Pkg\\src\\API.jl:73",
      " [13] add",
      "    @ C:\\buildbot\\worker\\package_win64\\build\\usr\\share\\julia\\stdlib\\v1.6\\Pkg\\src\\API.jl:72 [inlined]",
      " [14] #add#21",
      "    @ C:\\buildbot\\worker\\package_win64\\build\\usr\\share\\julia\\stdlib\\v1.6\\Pkg\\src\\API.jl:70 [inlined]",
      " [15] add",
      "    @ C:\\buildbot\\worker\\package_win64\\build\\usr\\share\\julia\\stdlib\\v1.6\\Pkg\\src\\API.jl:70 [inlined]",
      " [16] #add#20",
      "    @ C:\\buildbot\\worker\\package_win64\\build\\usr\\share\\julia\\stdlib\\v1.6\\Pkg\\src\\API.jl:69 [inlined]",
      " [17] add(pkg::String)",
      "    @ Pkg.API C:\\buildbot\\worker\\package_win64\\build\\usr\\share\\julia\\stdlib\\v1.6\\Pkg\\src\\API.jl:69",
      " [18] top-level scope",
      "    @ In[5]:1",
      " [19] eval",
      "    @ .\\boot.jl:360 [inlined]",
      " [20] include_string(mapexpr::typeof(REPL.softscope), mod::Module, code::String, filename::String)",
      "    @ Base .\\loading.jl:1094"
     ]
    }
   ],
   "source": [
    "import Pkg; Pkg.add(\"CUDA\")"
   ]
  },
  {
   "cell_type": "code",
   "execution_count": null,
   "metadata": {},
   "outputs": [],
   "source": [
    "I tried CuArrays and I got a similar (but different bunch of barf)"
   ]
  },
  {
   "cell_type": "code",
   "execution_count": 6,
   "metadata": {},
   "outputs": [
    {
     "name": "stderr",
     "output_type": "stream",
     "text": [
      "\u001b[32m\u001b[1m   Resolving\u001b[22m\u001b[39m package versions...\n"
     ]
    },
    {
     "ename": "LoadError",
     "evalue": "Unsatisfiable requirements detected for package \u001b[38;5;10mCUDAapi [3895d2a7]\u001b[39m:\n \u001b[38;5;10mCUDAapi [3895d2a7]\u001b[39m log:\n ├─possible versions are: \u001b[38;5;10m0.5.0-4.0.0\u001b[39m or uninstalled\n ├─restricted by compatibility requirements with \u001b[38;5;14mCuArrays [3a865a2d]\u001b[39m to versions: \u001b[38;5;10m0.5.0-4.0.0\u001b[39m\n │ └─\u001b[38;5;14mCuArrays [3a865a2d]\u001b[39m log:\n │   ├─possible versions are: \u001b[38;5;14m0.2.1-2.2.2\u001b[39m or uninstalled\n │   └─restricted to versions \u001b[38;5;14m*\u001b[39m by an explicit requirement, leaving only versions \u001b[38;5;14m0.2.1-2.2.2\u001b[39m\n └─restricted by julia compatibility requirements to versions: uninstalled — no versions left",
     "output_type": "error",
     "traceback": [
      "Unsatisfiable requirements detected for package \u001b[38;5;10mCUDAapi [3895d2a7]\u001b[39m:\n \u001b[38;5;10mCUDAapi [3895d2a7]\u001b[39m log:\n ├─possible versions are: \u001b[38;5;10m0.5.0-4.0.0\u001b[39m or uninstalled\n ├─restricted by compatibility requirements with \u001b[38;5;14mCuArrays [3a865a2d]\u001b[39m to versions: \u001b[38;5;10m0.5.0-4.0.0\u001b[39m\n │ └─\u001b[38;5;14mCuArrays [3a865a2d]\u001b[39m log:\n │   ├─possible versions are: \u001b[38;5;14m0.2.1-2.2.2\u001b[39m or uninstalled\n │   └─restricted to versions \u001b[38;5;14m*\u001b[39m by an explicit requirement, leaving only versions \u001b[38;5;14m0.2.1-2.2.2\u001b[39m\n └─restricted by julia compatibility requirements to versions: uninstalled — no versions left",
      "",
      "Stacktrace:",
      "  [1] propagate_constraints!(graph::Pkg.Resolve.Graph, sources::Set{Int64}; log_events::Bool)",
      "    @ Pkg.Resolve C:\\buildbot\\worker\\package_win64\\build\\usr\\share\\julia\\stdlib\\v1.6\\Pkg\\src\\Resolve\\graphtype.jl:1048",
      "  [2] propagate_constraints! (repeats 2 times)",
      "    @ C:\\buildbot\\worker\\package_win64\\build\\usr\\share\\julia\\stdlib\\v1.6\\Pkg\\src\\Resolve\\graphtype.jl:989 [inlined]",
      "  [3] simplify_graph!(graph::Pkg.Resolve.Graph, sources::Set{Int64}; clean_graph::Bool)",
      "    @ Pkg.Resolve C:\\buildbot\\worker\\package_win64\\build\\usr\\share\\julia\\stdlib\\v1.6\\Pkg\\src\\Resolve\\graphtype.jl:1503",
      "  [4] simplify_graph! (repeats 2 times)",
      "    @ C:\\buildbot\\worker\\package_win64\\build\\usr\\share\\julia\\stdlib\\v1.6\\Pkg\\src\\Resolve\\graphtype.jl:1503 [inlined]",
      "  [5] resolve_versions!(ctx::Pkg.Types.Context, pkgs::Vector{Pkg.Types.PackageSpec})",
      "    @ Pkg.Operations C:\\buildbot\\worker\\package_win64\\build\\usr\\share\\julia\\stdlib\\v1.6\\Pkg\\src\\Operations.jl:404",
      "  [6] targeted_resolve(ctx::Pkg.Types.Context, pkgs::Vector{Pkg.Types.PackageSpec}, preserve::Pkg.Types.PreserveLevel)",
      "    @ Pkg.Operations C:\\buildbot\\worker\\package_win64\\build\\usr\\share\\julia\\stdlib\\v1.6\\Pkg\\src\\Operations.jl:1208",
      "  [7] tiered_resolve(ctx::Pkg.Types.Context, pkgs::Vector{Pkg.Types.PackageSpec})",
      "    @ Pkg.Operations C:\\buildbot\\worker\\package_win64\\build\\usr\\share\\julia\\stdlib\\v1.6\\Pkg\\src\\Operations.jl:1194",
      "  [8] _resolve",
      "    @ C:\\buildbot\\worker\\package_win64\\build\\usr\\share\\julia\\stdlib\\v1.6\\Pkg\\src\\Operations.jl:1214 [inlined]",
      "  [9] add(ctx::Pkg.Types.Context, pkgs::Vector{Pkg.Types.PackageSpec}, new_git::Vector{Base.UUID}; preserve::Pkg.Types.PreserveLevel, platform::Base.BinaryPlatforms.Platform)",
      "    @ Pkg.Operations C:\\buildbot\\worker\\package_win64\\build\\usr\\share\\julia\\stdlib\\v1.6\\Pkg\\src\\Operations.jl:1229",
      " [10] add(ctx::Pkg.Types.Context, pkgs::Vector{Pkg.Types.PackageSpec}; preserve::Pkg.Types.PreserveLevel, platform::Base.BinaryPlatforms.Platform, kwargs::Base.Iterators.Pairs{Union{}, Union{}, Tuple{}, NamedTuple{(), Tuple{}}})",
      "    @ Pkg.API C:\\buildbot\\worker\\package_win64\\build\\usr\\share\\julia\\stdlib\\v1.6\\Pkg\\src\\API.jl:197",
      " [11] add",
      "    @ C:\\buildbot\\worker\\package_win64\\build\\usr\\share\\julia\\stdlib\\v1.6\\Pkg\\src\\API.jl:148 [inlined]",
      " [12] add(pkgs::Vector{Pkg.Types.PackageSpec}; kwargs::Base.Iterators.Pairs{Union{}, Union{}, Tuple{}, NamedTuple{(), Tuple{}}})",
      "    @ Pkg.API C:\\buildbot\\worker\\package_win64\\build\\usr\\share\\julia\\stdlib\\v1.6\\Pkg\\src\\API.jl:73",
      " [13] add",
      "    @ C:\\buildbot\\worker\\package_win64\\build\\usr\\share\\julia\\stdlib\\v1.6\\Pkg\\src\\API.jl:72 [inlined]",
      " [14] #add#21",
      "    @ C:\\buildbot\\worker\\package_win64\\build\\usr\\share\\julia\\stdlib\\v1.6\\Pkg\\src\\API.jl:70 [inlined]",
      " [15] add",
      "    @ C:\\buildbot\\worker\\package_win64\\build\\usr\\share\\julia\\stdlib\\v1.6\\Pkg\\src\\API.jl:70 [inlined]",
      " [16] #add#20",
      "    @ C:\\buildbot\\worker\\package_win64\\build\\usr\\share\\julia\\stdlib\\v1.6\\Pkg\\src\\API.jl:69 [inlined]",
      " [17] add(pkg::String)",
      "    @ Pkg.API C:\\buildbot\\worker\\package_win64\\build\\usr\\share\\julia\\stdlib\\v1.6\\Pkg\\src\\API.jl:69",
      " [18] top-level scope",
      "    @ In[6]:1",
      " [19] eval",
      "    @ .\\boot.jl:360 [inlined]",
      " [20] include_string(mapexpr::typeof(REPL.softscope), mod::Module, code::String, filename::String)",
      "    @ Base .\\loading.jl:1094"
     ]
    }
   ],
   "source": [
    "import Pkg; Pkg.add(\"CuArrays\")"
   ]
  },
  {
   "cell_type": "markdown",
   "metadata": {},
   "source": [
    "My guess (I think it came from somewhere) was that I had to find and enable the GPU."
   ]
  },
  {
   "cell_type": "markdown",
   "metadata": {},
   "source": [
    "I tried GPUArrays and it seems to have installed"
   ]
  },
  {
   "cell_type": "code",
   "execution_count": 8,
   "metadata": {},
   "outputs": [
    {
     "name": "stderr",
     "output_type": "stream",
     "text": [
      "\u001b[32m\u001b[1m   Resolving\u001b[22m\u001b[39m package versions...\n",
      "\u001b[32m\u001b[1m   Installed\u001b[22m\u001b[39m GPUArrays ─ v7.0.1\n",
      "\u001b[32m\u001b[1m    Updating\u001b[22m\u001b[39m `C:\\Users\\Struther\\.julia\\environments\\v1.6\\Project.toml`\n",
      " \u001b[90m [0c68f7d7] \u001b[39m\u001b[92m+ GPUArrays v7.0.1\u001b[39m\n",
      "\u001b[32m\u001b[1m    Updating\u001b[22m\u001b[39m `C:\\Users\\Struther\\.julia\\environments\\v1.6\\Manifest.toml`\n",
      " \u001b[90m [0c68f7d7] \u001b[39m\u001b[92m+ GPUArrays v7.0.1\u001b[39m\n",
      "\u001b[32m\u001b[1mPrecompiling\u001b[22m\u001b[39m project...\n",
      "\u001b[32m  ✓ \u001b[39mGPUArrays\n",
      "1 dependency successfully precompiled in 9 seconds (266 already precompiled)\n"
     ]
    }
   ],
   "source": [
    "import Pkg; Pkg.add(\"GPUArrays\")\n",
    "using GPUArrays"
   ]
  },
  {
   "cell_type": "code",
   "execution_count": null,
   "metadata": {},
   "outputs": [],
   "source": [
    "I got a missing package message \n",
    "LoadError: ArgumentError: Package Adapt not found in current path:\n",
    "- Run `import Pkg; Pkg.add(\"Adapt\")` to install the Adapt package.\n"
   ]
  },
  {
   "cell_type": "code",
   "execution_count": 11,
   "metadata": {},
   "outputs": [
    {
     "name": "stderr",
     "output_type": "stream",
     "text": [
      "\u001b[32m\u001b[1m   Resolving\u001b[22m\u001b[39m package versions...\n",
      "\u001b[32m\u001b[1m    Updating\u001b[22m\u001b[39m `C:\\Users\\Struther\\.julia\\environments\\v1.6\\Project.toml`\n",
      " \u001b[90m [79e6a3ab] \u001b[39m\u001b[92m+ Adapt v3.3.1\u001b[39m\n",
      "\u001b[32m\u001b[1m  No Changes\u001b[22m\u001b[39m to `C:\\Users\\Struther\\.julia\\environments\\v1.6\\Manifest.toml`\n"
     ]
    }
   ],
   "source": [
    "import Pkg; Pkg.add(\"Adapt\")"
   ]
  },
  {
   "cell_type": "markdown",
   "metadata": {},
   "source": [
    "There seems to be a testsuite "
   ]
  },
  {
   "cell_type": "code",
   "execution_count": 13,
   "metadata": {},
   "outputs": [
    {
     "name": "stderr",
     "output_type": "stream",
     "text": [
      "WARNING: replacing module TestSuite.\n"
     ]
    },
    {
     "data": {
      "text/plain": [
       "Main.TestSuite"
      ]
     },
     "execution_count": 13,
     "metadata": {},
     "output_type": "execute_result"
    }
   ],
   "source": [
    "import GPUArrays \n",
    "using Adapt\n",
    "gpuarrays = pathof(GPUArrays)\n",
    "gpuarrays_root = dirname(dirname(gpuarrays))\n",
    "include(joinpath(gpuarrays_root, \"test\", \"testsuite.jl\"))"
   ]
  },
  {
   "cell_type": "code",
   "execution_count": null,
   "metadata": {},
   "outputs": [],
   "source": []
  }
 ],
 "metadata": {
  "kernelspec": {
   "display_name": "Julia 1.6.0",
   "language": "julia",
   "name": "julia-1.6"
  },
  "language_info": {
   "file_extension": ".jl",
   "mimetype": "application/julia",
   "name": "julia",
   "version": "1.6.0"
  }
 },
 "nbformat": 4,
 "nbformat_minor": 4
}
