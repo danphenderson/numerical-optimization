{
 "cells": [
  {
   "cell_type": "markdown",
   "metadata": {},
   "source": [
    "# Summary and plan\n",
    "\n",
    "Hi folks:\n",
    "\n",
    "## What is in the notebook and what I did\n",
    "\n",
    "* I fixed some name space collisions that were causing confusion\n",
    "    * I changed the block size from b to w and started using the term warp in some places\n",
    "    * I change P to M in 6.4 \n",
    "* Importantly I fixed a typo in what is now (6.9) in the definition of b\n",
    "    * The clue was that the reduced model value did not match the non-reduced model\n",
    "* I learned that PSB and SR1 behave very similarly on a quadratic test problem for their first step\n",
    "    * I guess I was not surprised but they are VERY similar\n",
    "* I learned that the fit quality is very close on this first step for a quadratic.\n",
    "    * This has to do with extracting and accurately relaxing the \"large\" eigenvalues. \n",
    "    * Still it is much closer than I thought it would be. \n",
    "    * We should not expect this on real problems\n",
    "* I fixed all the things in the manuscript I could find to do with this stuff. \n",
    "    \n",
    " ## Plan\n",
    " \n",
    " 1. I may have misunderstood but I did not see the functions isolated out in a safe place so that nobody touches them once we are confident that they are \"correct\". \n",
    "       * I think the updates and linear algebraic builds etc should be somewhere safe.\n",
    "       * I would have an \"include\" file at the top but that is probably completely retro.\n",
    " 2. Dan could you fix the issues I fixed and see if it fixes all your problems.\n",
    " 3. This afternoon I am going to implement a fake version in Mathematica running on the Rosenbrock function\n",
    "     * This is so that I can start to think how to describe the results.\n",
    "     * I am being guided by the stuff on my board (thanks Ben) from Wednesday\n",
    "     * I am going to start editing the numerical experiment description.\n",
    "     \n",
    " "
   ]
  },
  {
   "cell_type": "code",
   "execution_count": 4,
   "metadata": {},
   "outputs": [
    {
     "data": {
      "text/plain": [
       "orth (generic function with 1 method)"
      ]
     },
     "execution_count": 4,
     "metadata": {},
     "output_type": "execute_result"
    }
   ],
   "source": [
    "using LinearAlgebra, TRS"
   ]
  },
  {
   "cell_type": "markdown",
   "metadata": {},
   "source": [
    "#  AAS Additions and comments\n",
    "1. orth undefined. Defined and tested below.\n",
    "2. I believe testing the updates was confusing inverses.  Changed to be consistent with manuscript.  Changes marked in cells\n",
    "3. Cells split up to increaase granularity.\n",
    "4. I expected the updates to be defined and exported from a package. I copied and included the defs from the oother notebook this is not good practice. It looks as though they are intended to be in a file util.jl but I can not find the file. "
   ]
  },
  {
   "cell_type": "code",
   "execution_count": 79,
   "metadata": {},
   "outputs": [
    {
     "data": {
      "text/plain": [
       "7.9289057297445255e-16"
      ]
     },
     "execution_count": 79,
     "metadata": {},
     "output_type": "execute_result"
    }
   ],
   "source": [
    "# include(\"util.jl\")\n",
    "function orth(A)\n",
    "    Matrix(qr(A).Q)\n",
    "end\n",
    "(n,s) = (10,4)\n",
    "S = orth(randn(n,s))\n",
    "norm(S'*S - I)"
   ]
  },
  {
   "cell_type": "markdown",
   "metadata": {},
   "source": [
    "#  AAS Additions and comments\n",
    "1. Cells split up to increaase granularity.\n",
    "4. I expected the updates to be defined and exported from a package. \n",
    "    * I copied and included the defs from the oother notebook this is not good practice. \n",
    "    * It looks as though they are intended to be in a file util.jl but I can not find the file. \n",
    "    *"
   ]
  },
  {
   "cell_type": "markdown",
   "metadata": {},
   "source": [
    "# Update Tests\n",
    "\n",
    "1. Underlying constant Hessian is A is symmettric\n",
    "1. Approximations per manuscaript are H~inv(A) and B~A\n",
    "1. Update info satisfies V = A*U\n",
    "    * U is input \n",
    "    * V is output\n",
    "    * Automatically U'*V is symmettric\n",
    "1. Switching to new block dimension internal size w (see revised manuscript). \n",
    "1. I expected the updates to be defined in a package or included in a file. . \n",
    "    * I copied and included the defs from the oother notebook this is not good practice. \n",
    "    * It looks as though they are intended to be in a file util.jl but I can not find the file. \n",
    "1. Symmetric tag deleted to check symmetry and then restored. \n",
    "1. Output symmetric and satisfies \n",
    "1. Updates look like they match defs.  Should be stored in a single location where they can not be broken and imported using standard techniques. "
   ]
  },
  {
   "cell_type": "code",
   "execution_count": 77,
   "metadata": {},
   "outputs": [
    {
     "data": {
      "text/plain": [
       "(2.822787533668037e-10, 2.750804979956145e-11)"
      ]
     },
     "execution_count": 77,
     "metadata": {},
     "output_type": "execute_result"
    }
   ],
   "source": [
    "## From Test!\n",
    "# util.jl \n",
    "function bSR1(H::AbstractArray{<:Real}, U::AbstractArray{<:Real}, V::AbstractArray{<:Real}, δ::Float64)\n",
    "    U_minus_HV = U - H*V\n",
    "    return Symmetric(H + U_minus_HV * pinv(U_minus_HV'*V, δ) *  U_minus_HV')\n",
    "    #return H + U_minus_HV * pinv(U_minus_HV'*V, δ) *  U_minus_HV'\n",
    "end\n",
    "\n",
    "function bPSB(H::AbstractArray{<:Real}, U::AbstractArray{<:Real}, V::AbstractArray{<:Real}, δ::Float64)\n",
    "    T₁ = pinv(V'*V, δ)   \n",
    "    T₂ = V*T₁*(U - H*V)'     \n",
    "    return Symmetric(H + T₂ + T₂' - T₂*V*T₁*V') \n",
    "    #return H + T₂ + T₂' - T₂*V*T₁*V' \n",
    "end\n",
    "\n",
    "# Minimalist Tests\n",
    "(n,w) = (324,4)\n",
    "# define tests Symmettric but not SPD\n",
    "Temp = randn(n,n);\n",
    "A=Temp+Temp'\n",
    "Temp = randn(n,n);\n",
    "H0=Temp+Temp'\n",
    "# define sample data\n",
    "U = randn(n,2w); V=A*U;\n",
    "# Compute updates \n",
    "delta=1e-6\n",
    "Hp = bSR1(H0,U,V,delta);\n",
    "Hs = bPSB(H0,U,V,delta);\n",
    "# Check symmetry.\n",
    "map(norm, (Hp-Hp',Hs-Hs'))\n",
    "#Check Secant equation\n",
    "map(norm, (Hp*V-U,Hs*V-U))"
   ]
  },
  {
   "cell_type": "markdown",
   "metadata": {},
   "source": [
    "# Trust region sub problem construction\n",
    "\n",
    "1. The plan is to build out the trust region sub problem and check the derivation. \n",
    "    * Working from the manuscript.  \n",
    "    * Equation numbers and variable names match\n",
    "1. Working from Dans notebook but testing on general problems.  Lots of changes! \n",
    "    * Changed s to w per change in man.\n",
    "    * Built A for clarity\n",
    "    * I may have been confused but I think there was a missing Inverse in construction of mp (6.1). "
   ]
  },
  {
   "cell_type": "code",
   "execution_count": 242,
   "metadata": {},
   "outputs": [
    {
     "data": {
      "text/plain": [
       "2×4 Matrix{Float64}:\n",
       " -137.32   -137.32   -137.32   -137.324\n",
       " -136.464  -136.464  -136.464  -136.597"
      ]
     },
     "execution_count": 242,
     "metadata": {},
     "output_type": "execute_result"
    }
   ],
   "source": [
    "# Building problem\n",
    "(n,w) = (32,6);\n",
    "# Build A and d function f = 1/2 x.a.x + d.x:  \n",
    "# Avoiding b to avoid namespace collisions.\n",
    "A  = (Temp = rand(n, n); Symmetric(Temp'+ Temp'))\n",
    "d = rand(n);\n",
    "function f(x)\n",
    "    0.5*x'*A*x + d'*x\n",
    "end\n",
    "# Initializing H0 and x0 \n",
    "H0 = (Temp = rand(n, n); Symmetric(Temp'+ Temp'))\n",
    "x0 = rand(n)\n",
    "# Fake data for U and V from A.  In the real world would use gHS\n",
    "# Naming as in Alg 4.1 with zeros appended.  df is gradf\n",
    "S0 = orth(rand(n, 2w-1))\n",
    "Y0 =A*S0\n",
    "df0 = A*x0 + d\n",
    "h0 = A*df0\n",
    "# Build U and V per \"I think I need to add a numbered equation\" unless I am being blind. \n",
    "# Remember U is input and V is output.  This needs an equation number in the manuscript\n",
    "U = [S0 df0]\n",
    "V = [Y0 h0]\n",
    "# check data is consistent\n",
    "# println(norm(V-A*U))\n",
    "# update Hp and Hs using\n",
    "\n",
    "delta = 1e-6\n",
    "Hp = bSR1(H0,U,V,delta)\n",
    "Hs = bPSB(H0,U,V,delta)\n",
    "# build standard quadratic model which is consciously not named in (6.1)\n",
    "# There are two here called mSTDs and mSTDp. Variable is full dimensional p to match 6.1\n",
    "InvHp = inv(Hp)\n",
    "InvHs = inv(Hs)\n",
    "\n",
    "function mSTDp(p) \n",
    "    0.5*p'*InvHp*p + df0'*p\n",
    "end\n",
    "function mSTDs(p) \n",
    "    0.5*p'*InvHs*p + df0'*p\n",
    "end\n",
    "# build fancy quadratic models named in (6.2)\n",
    "function mkp(q) \n",
    "    0.5*q'*Hp*q + (Hp*df0)'*q\n",
    "end\n",
    "function mks(q) \n",
    "    0.5*q'*Hs*q + (Hs*df0)'*q\n",
    "end\n",
    "# check substitution p = H*q in both variants\n",
    "q0=rand(n);\n",
    "(mSTDs(Hs*q0)-mks(q0), mSTDp(Hp*q0)-mkp(q0))\n",
    "\n",
    "# Build out the arguments for the the TRS call\n",
    "# 6.4  defines explicit representations of the search spaces M.  \n",
    "# Note: These were called P which I changed to M to avoid a name space collision with TRS. \n",
    "# As before, appended p and s indicates which update is used.\n",
    "Mp = [df0 Hp*df0 S0]\n",
    "Ms = [df0 Hs*df0 S0]\n",
    "# Building out the alternate representations for the spaces in 6.5\n",
    "# Note I just noticed that this space (matrices) is visibly independent of the update\n",
    "# I made both for consistency. \n",
    "Qs = [h0 df0 Y0]\n",
    "Qp = [h0 df0 Y0]\n",
    "# Just checking\n",
    "# println(size(Qs)); svd(Qs).S\n",
    "# Build out the arguments for the the TRS call\n",
    "# 6.4  defines explicit representations of the search spaces M.  \n",
    "# Note: These were called P which I changed to M to avoid a name space collision with TRS. \n",
    "# As before, appended p and s indicates which update is used.\n",
    "Mp = [df0 Hp*df0 S0]\n",
    "Ms = [df0 Hs*df0 S0]\n",
    "\n",
    "# Building out the alternate representations for the spaces in 6.5\n",
    "# Note I just noticed that this space (matrices) is visibly independent of the update\n",
    "# I made both for consistency. \n",
    "Qs = [h0 df0 Y0]\n",
    "Qp = [h0 df0 Y0]\n",
    "# Just checking\n",
    "# println(size(Qs)); svd(Qs).S\n",
    "# Making the P and b arguments (6.9) for Julia TRS\n",
    "# Asserting symmetry to make TRS happy!\n",
    "# As before, appended p and s indicates which update is used.\n",
    "Ps = Symmetric(Qs'*Hs*Qs)\n",
    "Pp = Symmetric(Qp'*Hp*Qp)\n",
    "# the Ps are not the same. checking conditioning Conditioning is are similar\n",
    "#[eigen(Ps).values eigen(Pp).values]\n",
    "# the bs are not the same.  There was a typo in (6.8) in the expressions for b  \n",
    "bs = Qs'*Hs*df0\n",
    "bp = Qp'*Hp*df0\n",
    "# the Cs are not the same \n",
    "Cs = Symmetric(Qs'*Hs*Hs*Qs)\n",
    "Cp = Symmetric(Qp'*Hp*Hp*Qp)\n",
    "# checking conditioning.  They are similar\n",
    "#[eigen(Cs).values eigen(Cp).values]\n",
    "# calling trs_small per (6.8)\n",
    "DeltaRadius = 2.7;\n",
    "as, sFlags = trs_small(Ps,bs,DeltaRadius,Cs);\n",
    "ap, pFlags = trs_small(Pp,bp,DeltaRadius,Cp);\n",
    "# The flags return (hard_case, 0, 0, [lambdas]) \n",
    "# we should really almost never be in the hard case. Sampled and the results match intuition\n",
    "# Comparing constraint from low dimensional model in the full dimensional model\n",
    "[as'*Cs*as-[DeltaRadius^2] ap'*Cp*ap-[DeltaRadius^2];\n",
    "norm(Hs*Qs*as)-DeltaRadius norm(Hp*Qp*ap)-DeltaRadius]\n",
    "# Comparing obj vals from low dimensional, restricted, and full-dimensional model\n",
    "# The two update models are similar but not the same.  Again matching intuition\n",
    "# First col is (6.7), second is (6.6) aka (6.2), third is (6.1), fourth is actual reduction \n",
    "# First row is SR1 second row is PSB\n",
    "# Note lots of things are returning 1x1 matrices.  My f returns a scalar so [f(x0)] is needed to subtract!\n",
    "# Note rho is very good here! It should be they are quadratics.\n",
    "[0.5*as'*Ps*as+bs'*as mks(Qs*as) mSTDs(Hs*Qs*as) f(x0+Hs*Qs*as)-[f(x0)];\n",
    "    0.5*ap'*Pp*ap+bp'*ap mkp(Qp*ap) mSTDp(Hp*Qp*ap) f(x0+Hp*Qp*ap)-[f(x0)]]"
   ]
  },
  {
   "cell_type": "markdown",
   "metadata": {},
   "source": [
    "# Summary and plan\n",
    "\n",
    "Hi folks:\n",
    "\n",
    "## What is in the notebook and what I did\n",
    "\n",
    "* I fixed some name space collisions that were causing confusion\n",
    "    * I changed the block size from b to w and started using the term warp in some places\n",
    "    * I change P to M in 6.4 \n",
    "* Importantly I fixed a typo in what is now (6.9) in the definition of b\n",
    "    * The clue was that the reduced model value did not match the non-reduced model\n",
    "* I learned that PSB and SR1 behave very similarly on a quadratic test problem for their first step\n",
    "    * I guess I was not surprised but they are VERY similar\n",
    "* I learned that the fit quality is very close on this first step for a quadratic.\n",
    "    * This has to do with extracting and accurately relaxing the \"large\" eigenvalues. \n",
    "    * Still it is much closer than I thought it would be. \n",
    "    * We should not expect this on real problems\n",
    "* I fixed all the things in the manuscript I could find to do with this stuff. \n",
    "    \n",
    " ## Plan\n",
    " \n",
    " 1. I may have misunderstood but I did not see the functions isolated out in a safe place so that nobody touches them once we are confident that they are \"correct\". \n",
    "       * I think the updates and linear algebraic builds etc should be somewhere safe.\n",
    "       * I would have an \"include\" file at the top but that is probably completely retro.\n",
    " 2. Dan could you fix the issues I fixed and see if it fixes all your problems.\n",
    " 3. This afternoon I am going to implement a fake version in Mathematica running on the Rosenbrock function\n",
    "     * This is so that I can start to think how to describe the results.\n",
    "     * I am being guided by the stuff on my board (thanks Ben) from Wednesday\n",
    "     * I am going to start editing the numerical experiment description.\n",
    "     \n",
    " "
   ]
  },
  {
   "cell_type": "code",
   "execution_count": 236,
   "metadata": {},
   "outputs": [
    {
     "data": {
      "text/plain": [
       "1×1 Matrix{Float64}:\n",
       " -63.11371235242522"
      ]
     },
     "execution_count": 236,
     "metadata": {},
     "output_type": "execute_result"
    }
   ],
   "source": [
    "mSTDs(Hs*Qs*as)"
   ]
  },
  {
   "cell_type": "code",
   "execution_count": 237,
   "metadata": {},
   "outputs": [
    {
     "data": {
      "text/plain": [
       "163.83470881876383"
      ]
     },
     "execution_count": 237,
     "metadata": {},
     "output_type": "execute_result"
    }
   ],
   "source": [
    "f(x0)"
   ]
  },
  {
   "cell_type": "code",
   "execution_count": null,
   "metadata": {},
   "outputs": [],
   "source": []
  }
 ],
 "metadata": {
  "kernelspec": {
   "display_name": "Julia 1.6.2",
   "language": "julia",
   "name": "julia-1.6"
  },
  "language_info": {
   "file_extension": ".jl",
   "mimetype": "application/julia",
   "name": "julia",
   "version": "1.6.2"
  }
 },
 "nbformat": 4,
 "nbformat_minor": 2
}
