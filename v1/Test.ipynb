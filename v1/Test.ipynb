{
 "cells": [
  {
   "cell_type": "code",
   "execution_count": 85,
   "source": [
    "using ForwardDiff, TRS, LinearAlgebra"
   ],
   "outputs": [],
   "metadata": {}
  },
  {
   "cell_type": "code",
   "execution_count": 86,
   "source": [
    "# util.jl \n",
    "function bSR1(H::AbstractArray{<:Real}, U::AbstractArray{<:Real}, V::AbstractArray{<:Real}, δ::Float64)\n",
    "    U_minus_HV = U - H*V\n",
    "    return Symmetric(H + U_minus_HV * pinv(U_minus_HV'*V, δ) *  U_minus_HV')\n",
    "end\n",
    "\n",
    "function bPSB(H::AbstractArray{<:Real}, U::AbstractArray{<:Real}, V::AbstractArray{<:Real}, δ::Float64)\n",
    "    T₁ = pinv(V'*V, δ)   \n",
    "    T₂ = V*T₁*(U - H*V)'     \n",
    "    return Symmetric(H + T₂ + T₂' - T₂*V*T₁*V') \n",
    "end\n",
    "\n",
    "# This also differs from the artile. (My derivation from Test.ipynb)\n",
    "function trs_model(Qₖ, Hₖ, gₖ)\n",
    "    return Symmetric(Qₖ'*Hₖ*Qₖ), Qₖ'*Hₖ*gₖ, Symmetric(Qₖ'*Hₖ*Hₖ*Qₖ)\n",
    "end\n",
    "\n",
    "# This differs from the article (From Sensitivity of trust-region algorithms to their parameters)\n",
    "function Δ_update(Δₖ, Δₘ, pₖ_norm, ρ)     \n",
    "    if ρ < 0.25\n",
    "        Δₖ *= 0.25*Δₖ\n",
    "    elseif ρ > 0.75\n",
    "        Δₖ = min(2*pₖ_norm, Δₘ) \n",
    "    end\n",
    "    return Δₖ\n",
    "end\n",
    "\n",
    "function orth(S::AbstractArray{<:Real})\n",
    "    return Matrix(qr(S).Q)\n",
    "end\n",
    "\n",
    "function gAD(∇f!::Function, x::AbstractArray{<:Real}, S::AbstractArray{<:Real})\n",
    "    Sdual = ForwardDiff.Dual{1}.(x,  eachcol(S)...)\n",
    "    Ydual = ForwardDiff.Dual{1}.(zeros(length(x)),  eachcol(S)...)\n",
    "    Ydual = ∇f!(Ydual, Sdual)\n",
    "    g = similar(x)\n",
    "    Y = similar(S)\n",
    "    @views for i in 1:length(x) \n",
    "        g[i]    = Ydual[i].value\n",
    "        Y[i, :] = Ydual[i].partials[:]\n",
    "    end\n",
    "    return g, Y\n",
    "end\n",
    "\n",
    "function gHS(∇f!::Function, x::AbstractArray{<:Real}, S::AbstractArray{<:Real})\n",
    "    b = Int((size(S, 2) + 1)/2)\n",
    "    g, Y₁ = gAD(∇f!, x, S[:, 1:b])\n",
    "    _, Y₂ = gAD(∇f!, x, [S[:,(b+1):size(S,2)] g])\n",
    "    return g, Y₂[:, size(Y₂, 2)], [Y₁ Y₂[:, 1:size(Y₂, 2)-1]] # g, h, Y\n",
    "end\n",
    "\n",
    "function safeguard!(k)\n",
    "    if k >= 10000\n",
    "        println(\"Safegaurd triggered: $k\")\n",
    "        return true\n",
    "    end\n",
    "    return false\n",
    "end"
   ],
   "outputs": [
    {
     "output_type": "execute_result",
     "data": {
      "text/plain": [
       "safeguard! (generic function with 1 method)"
      ]
     },
     "metadata": {},
     "execution_count": 86
    }
   ],
   "metadata": {}
  },
  {
   "cell_type": "code",
   "execution_count": 87,
   "source": [
    "Base.@kwdef struct Driver\n",
    "\tn::Int\n",
    "\ts::Int\n",
    "\tQN::Function\t\n",
    "\tS₀  = orth(rand(n, 2s-1))\n",
    "\tH₀  = (H = rand(n,n); 0.5*(H + H'))\n",
    "\tΔ₀  = 1.0\n",
    "\tΔₘ  = 100.0\t\n",
    "\tϵ   = 1.0e-6\n",
    "    δ   = 1.5e-9\n",
    "\tη   = 0.1\n",
    "end\n",
    "\n",
    "mutable struct Meta\n",
    "\tf_vals\n",
    "\tg_norms\n",
    "\tΔ_vals\n",
    "\tρ_vals\n",
    "\tp_vals\n",
    "\tcost  \n",
    "\tk      \n",
    "\tfunction Meta(f₀, g₀_norm, Δ₀)\n",
    "\t\tnew([g₀_norm], [f₀], [Δ₀], Vector{Float64}(), Vector{Float64}(), 2, 0)\n",
    "\tend\n",
    "end\n",
    "\n",
    "function meta_obs!(meta::Meta, fₖ, gₖ_norm, ρ, pₖ, Δₖ)\n",
    "\tpush!(meta.f_vals, fₖ)\n",
    "\t\n",
    "\tpush!(meta.g_norms, gₖ_norm)\n",
    "\t\n",
    "\tpush!(meta.ρ_vals, ρ)\n",
    "\t\n",
    "\tpush!(meta.p_vals, pₖ)\n",
    "\t\n",
    "\tpush!(meta.Δ_vals, Δₖ)\n",
    "\t\n",
    "\tmeta.cost += 2\n",
    "\n",
    "\treturn nothing\n",
    "end\n",
    "\n",
    "# QN and d are keyword arguments with defaults. You must specify argument name if you want to use something different than default \n",
    "function qntrHS(f::Function, ∇f::Function, x₀::AbstractArray{<:Real}; QN = bSR1, d = nothing) \n",
    "\td = (isa(d, Nothing) ? Driver(n = length(x₀), s=3, QN = QN) : d)\n",
    "\n",
    "\tQN, ϵ, δ, η, Δₘ  = d.QN, d.ϵ, d.δ, d.η, d.Δₘ\n",
    "\n",
    "\tΔₖ, xₖ, Sₖ  = d.Δ₀, x₀, d.S₀ \n",
    "\n",
    "\tfₖ = f(xₖ)\n",
    "\n",
    "    gₖ, hₖ, Yₖ = gHS(∇f, xₖ, Sₖ) \n",
    "\n",
    "    Hₖ = QN(d.H₀, [Sₖ gₖ], [Yₖ hₖ], δ)\n",
    "\n",
    "    Qₖ = [hₖ gₖ Yₖ]\n",
    "\n",
    "    gₖ_norm = norm(gₖ)\n",
    "\n",
    "    P, b, C = trs_model(Qₖ, Hₖ, gₖ)\n",
    "\n",
    "\tmeta = Meta(fₖ, gₖ_norm, Δₖ)\n",
    "\n",
    "    while gₖ_norm > ϵ\n",
    "\t\tsafeguard!( ( meta.k+=1 ) ) && break\n",
    "\n",
    "\t\t!(Hₖ*Yₖ ≈ Sₖ) && @warn \"There is a secant violation: ||HY - S|| = $(norm(Hₖ*Yₖ - Sₖ)) at $(meta.k) subproblem solve\" \n",
    "\n",
    "\n",
    "        aₖ, _ = trs_small(P, b, Δₖ, C, compute_local=true);\n",
    "\n",
    "\n",
    "\t\taₖ = vec(aₖ[:,1])   \n",
    "\t\t\n",
    "\t\tpₖ = Hₖ * Qₖ * aₖ\n",
    "\t\t\n",
    "\t\tpₖ_norm = norm(pₖ)\n",
    "\n",
    "\t\txₜ = xₖ + pₖ      \n",
    "\n",
    "\t\tfₜ = f(xₜ)    \n",
    "\n",
    "\t\tQₖaₖ = Qₖ * aₖ\n",
    "\n",
    "\t\tmodel_reduction = (0 - (0.5*dot(Qₖaₖ, Hₖ, Qₖaₖ) + (Hₖ * gₖ)' * Qₖaₖ)) \n",
    "\n",
    "\t\tmodel_reduction < 0 && @warn \"Negative model reduction: $model_reduction at $(meta.k) subproblem solve (Δₖ = $Δₖ, actual reduction: $(fₖ - fₜ))\"\n",
    "\n",
    "\t\tρ = (fₖ - fₜ) / model_reduction\n",
    "\n",
    "        if ρ ≥ η  # it appears to still happen when Δₖ is very trs_small\n",
    "            xₖ = xₜ\n",
    "\n",
    "\t\t\tfₖ = fₜ\n",
    "\n",
    "\t\t\tSₖ = orth(Yₖ - Sₖ*(Sₖ' * Yₖ))\n",
    "\n",
    "\t\t\tgₖ, hₖ, Yₖ = gHS(∇f, xₖ, Sₖ) \n",
    "\n",
    "\t\t\tHₖ = QN(Hₖ, [Sₖ gₖ], [Yₖ hₖ], δ)\n",
    "\n",
    "\t\t\tQₖ = [hₖ gₖ Yₖ]\n",
    "\n",
    "\t\t\tgₖ_norm = norm(gₖ)\n",
    "\n",
    "\t\t\tP, b, C = trs_model(Qₖ, Hₖ, gₖ)\n",
    "\n",
    "\t\t\tmeta_obs!(meta, fₖ, gₖ_norm, Δₖ, ρ, pₖ_norm)\n",
    "        end\n",
    "\n",
    "\t\tΔₖ = Δ_update(Δₖ, Δₘ, pₖ_norm, ρ) # different order than Alg 9.1 to update meta \n",
    "    end\n",
    "\n",
    "    return xₖ, meta \n",
    "end"
   ],
   "outputs": [
    {
     "output_type": "execute_result",
     "data": {
      "text/plain": [
       "qntrHS (generic function with 1 method)"
      ]
     },
     "metadata": {},
     "execution_count": 87
    }
   ],
   "metadata": {}
  },
  {
   "cell_type": "markdown",
   "source": [
    "## Testing on Convex Quadratic\n",
    "\n",
    "bSR1 seems to always work. On occasion there is a secant equation violation."
   ],
   "metadata": {}
  },
  {
   "cell_type": "code",
   "execution_count": 97,
   "source": [
    "using Plots\n",
    "\n",
    "n = 10\n",
    "A = (H = rand(n, n); Symmetric(H'*H + I))\n",
    "b = rand(n)\n",
    "f(x) = x'*A*x + b'*x\n",
    "g!(out, x) = (out = 2 *A*x + b; out)\n",
    "x0 = ones(n)\n",
    "\n",
    "xₖ, meta = qntrHS(f, g!, x0; QN=bSR1)\n",
    "\n",
    "println(\"bSR1 terminal objective $(last(meta.f_vals))\")\n",
    "println(\"bSR1 terminal gradient $(last(meta.g_norms))\")\n",
    "\n",
    "\n",
    "\n",
    "plot(1:length(meta.f_vals),\n",
    "\t [meta.f_vals meta.g_norms],\n",
    "\t labels=[\"objective\" \"Normed gradient\"],\n",
    "\t title=\"bSR1 Trace ($(meta.k) subproblem solves)\",\n",
    ")\t "
   ],
   "outputs": [
    {
     "output_type": "stream",
     "name": "stdout",
     "text": [
      "bSR1 terminal objective -0.274469130034587\n",
      "bSR1 terminal gradient 1.2333856590467534e-11\n"
     ]
    },
    {
     "output_type": "stream",
     "name": "stderr",
     "text": [
      "┌ Warning: There is a secant violation: ||HY - S|| = 0.8239818213604426 at 1 subproblem solve\n",
      "└ @ Main In[87]:68\n"
     ]
    },
    {
     "output_type": "execute_result",
     "data": {
      "image/svg+xml": "<?xml version=\"1.0\" encoding=\"utf-8\"?>\n<svg xmlns=\"http://www.w3.org/2000/svg\" xmlns:xlink=\"http://www.w3.org/1999/xlink\" width=\"600\" height=\"400\" viewBox=\"0 0 2400 1600\">\n<defs>\n  <clipPath id=\"clip2600\">\n    <rect x=\"0\" y=\"0\" width=\"2400\" height=\"1600\"/>\n  </clipPath>\n</defs>\n<path clip-path=\"url(#clip2600)\" d=\"\nM0 1600 L2400 1600 L2400 0 L0 0  Z\n  \" fill=\"#ffffff\" fill-rule=\"evenodd\" fill-opacity=\"1\"/>\n<defs>\n  <clipPath id=\"clip2601\">\n    <rect x=\"480\" y=\"0\" width=\"1681\" height=\"1600\"/>\n  </clipPath>\n</defs>\n<path clip-path=\"url(#clip2600)\" d=\"\nM167.279 1487.47 L2352.76 1487.47 L2352.76 121.675 L167.279 121.675  Z\n  \" fill=\"#ffffff\" fill-rule=\"evenodd\" fill-opacity=\"1\"/>\n<defs>\n  <clipPath id=\"clip2602\">\n    <rect x=\"167\" y=\"121\" width=\"2186\" height=\"1367\"/>\n  </clipPath>\n</defs>\n<polyline clip-path=\"url(#clip2602)\" style=\"stroke:#000000; stroke-width:2; stroke-opacity:0.1; fill:none\" points=\"\n  229.132,1487.47 229.132,121.675 \n  \"/>\n<polyline clip-path=\"url(#clip2602)\" style=\"stroke:#000000; stroke-width:2; stroke-opacity:0.1; fill:none\" points=\"\n  916.389,1487.47 916.389,121.675 \n  \"/>\n<polyline clip-path=\"url(#clip2602)\" style=\"stroke:#000000; stroke-width:2; stroke-opacity:0.1; fill:none\" points=\"\n  1603.65,1487.47 1603.65,121.675 \n  \"/>\n<polyline clip-path=\"url(#clip2602)\" style=\"stroke:#000000; stroke-width:2; stroke-opacity:0.1; fill:none\" points=\"\n  2290.9,1487.47 2290.9,121.675 \n  \"/>\n<polyline clip-path=\"url(#clip2602)\" style=\"stroke:#000000; stroke-width:2; stroke-opacity:0.1; fill:none\" points=\"\n  167.279,1447.31 2352.76,1447.31 \n  \"/>\n<polyline clip-path=\"url(#clip2602)\" style=\"stroke:#000000; stroke-width:2; stroke-opacity:0.1; fill:none\" points=\"\n  167.279,1172.45 2352.76,1172.45 \n  \"/>\n<polyline clip-path=\"url(#clip2602)\" style=\"stroke:#000000; stroke-width:2; stroke-opacity:0.1; fill:none\" points=\"\n  167.279,897.598 2352.76,897.598 \n  \"/>\n<polyline clip-path=\"url(#clip2602)\" style=\"stroke:#000000; stroke-width:2; stroke-opacity:0.1; fill:none\" points=\"\n  167.279,622.741 2352.76,622.741 \n  \"/>\n<polyline clip-path=\"url(#clip2602)\" style=\"stroke:#000000; stroke-width:2; stroke-opacity:0.1; fill:none\" points=\"\n  167.279,347.884 2352.76,347.884 \n  \"/>\n<polyline clip-path=\"url(#clip2600)\" style=\"stroke:#000000; stroke-width:4; stroke-opacity:1; fill:none\" points=\"\n  167.279,1487.47 2352.76,1487.47 \n  \"/>\n<polyline clip-path=\"url(#clip2600)\" style=\"stroke:#000000; stroke-width:4; stroke-opacity:1; fill:none\" points=\"\n  167.279,1487.47 167.279,121.675 \n  \"/>\n<polyline clip-path=\"url(#clip2600)\" style=\"stroke:#000000; stroke-width:4; stroke-opacity:1; fill:none\" points=\"\n  229.132,1487.47 229.132,1471.09 \n  \"/>\n<polyline clip-path=\"url(#clip2600)\" style=\"stroke:#000000; stroke-width:4; stroke-opacity:1; fill:none\" points=\"\n  916.389,1487.47 916.389,1471.09 \n  \"/>\n<polyline clip-path=\"url(#clip2600)\" style=\"stroke:#000000; stroke-width:4; stroke-opacity:1; fill:none\" points=\"\n  1603.65,1487.47 1603.65,1471.09 \n  \"/>\n<polyline clip-path=\"url(#clip2600)\" style=\"stroke:#000000; stroke-width:4; stroke-opacity:1; fill:none\" points=\"\n  2290.9,1487.47 2290.9,1471.09 \n  \"/>\n<polyline clip-path=\"url(#clip2600)\" style=\"stroke:#000000; stroke-width:4; stroke-opacity:1; fill:none\" points=\"\n  167.279,1447.31 193.505,1447.31 \n  \"/>\n<polyline clip-path=\"url(#clip2600)\" style=\"stroke:#000000; stroke-width:4; stroke-opacity:1; fill:none\" points=\"\n  167.279,1172.45 193.505,1172.45 \n  \"/>\n<polyline clip-path=\"url(#clip2600)\" style=\"stroke:#000000; stroke-width:4; stroke-opacity:1; fill:none\" points=\"\n  167.279,897.598 193.505,897.598 \n  \"/>\n<polyline clip-path=\"url(#clip2600)\" style=\"stroke:#000000; stroke-width:4; stroke-opacity:1; fill:none\" points=\"\n  167.279,622.741 193.505,622.741 \n  \"/>\n<polyline clip-path=\"url(#clip2600)\" style=\"stroke:#000000; stroke-width:4; stroke-opacity:1; fill:none\" points=\"\n  167.279,347.884 193.505,347.884 \n  \"/>\n<g clip-path=\"url(#clip2600)\">\n<text style=\"fill:#000000; fill-opacity:1; font-family:Arial,Helvetica Neue,Helvetica,sans-serif; font-size:48px; text-anchor:middle;\" transform=\"rotate(0, 229.132, 1541.47)\" x=\"229.132\" y=\"1541.47\">1</text>\n</g>\n<g clip-path=\"url(#clip2600)\">\n<text style=\"fill:#000000; fill-opacity:1; font-family:Arial,Helvetica Neue,Helvetica,sans-serif; font-size:48px; text-anchor:middle;\" transform=\"rotate(0, 916.389, 1541.47)\" x=\"916.389\" y=\"1541.47\">2</text>\n</g>\n<g clip-path=\"url(#clip2600)\">\n<text style=\"fill:#000000; fill-opacity:1; font-family:Arial,Helvetica Neue,Helvetica,sans-serif; font-size:48px; text-anchor:middle;\" transform=\"rotate(0, 1603.65, 1541.47)\" x=\"1603.65\" y=\"1541.47\">3</text>\n</g>\n<g clip-path=\"url(#clip2600)\">\n<text style=\"fill:#000000; fill-opacity:1; font-family:Arial,Helvetica Neue,Helvetica,sans-serif; font-size:48px; text-anchor:middle;\" transform=\"rotate(0, 2290.9, 1541.47)\" x=\"2290.9\" y=\"1541.47\">4</text>\n</g>\n<g clip-path=\"url(#clip2600)\">\n<text style=\"fill:#000000; fill-opacity:1; font-family:Arial,Helvetica Neue,Helvetica,sans-serif; font-size:48px; text-anchor:end;\" transform=\"rotate(0, 143.279, 1464.81)\" x=\"143.279\" y=\"1464.81\">0</text>\n</g>\n<g clip-path=\"url(#clip2600)\">\n<text style=\"fill:#000000; fill-opacity:1; font-family:Arial,Helvetica Neue,Helvetica,sans-serif; font-size:48px; text-anchor:end;\" transform=\"rotate(0, 143.279, 1189.95)\" x=\"143.279\" y=\"1189.95\">50</text>\n</g>\n<g clip-path=\"url(#clip2600)\">\n<text style=\"fill:#000000; fill-opacity:1; font-family:Arial,Helvetica Neue,Helvetica,sans-serif; font-size:48px; text-anchor:end;\" transform=\"rotate(0, 143.279, 915.098)\" x=\"143.279\" y=\"915.098\">100</text>\n</g>\n<g clip-path=\"url(#clip2600)\">\n<text style=\"fill:#000000; fill-opacity:1; font-family:Arial,Helvetica Neue,Helvetica,sans-serif; font-size:48px; text-anchor:end;\" transform=\"rotate(0, 143.279, 640.241)\" x=\"143.279\" y=\"640.241\">150</text>\n</g>\n<g clip-path=\"url(#clip2600)\">\n<text style=\"fill:#000000; fill-opacity:1; font-family:Arial,Helvetica Neue,Helvetica,sans-serif; font-size:48px; text-anchor:end;\" transform=\"rotate(0, 143.279, 365.384)\" x=\"143.279\" y=\"365.384\">200</text>\n</g>\n<g clip-path=\"url(#clip2600)\">\n<text style=\"fill:#000000; fill-opacity:1; font-family:Arial,Helvetica Neue,Helvetica,sans-serif; font-size:84px; text-anchor:middle;\" transform=\"rotate(0, 1260.02, 73.2)\" x=\"1260.02\" y=\"73.2\">bSR1 Trace (3 subproblem solves)</text>\n</g>\n<polyline clip-path=\"url(#clip2602)\" style=\"stroke:#009af9; stroke-width:4; stroke-opacity:1; fill:none\" points=\"\n  229.132,631.467 916.389,846.425 1603.65,1442.78 2290.9,1448.82 \n  \"/>\n<polyline clip-path=\"url(#clip2602)\" style=\"stroke:#e26f46; stroke-width:4; stroke-opacity:1; fill:none\" points=\"\n  229.132,160.33 916.389,890.934 1603.65,1400.22 2290.9,1447.31 \n  \"/>\n<path clip-path=\"url(#clip2600)\" d=\"\nM1682.3 386.635 L2280.76 386.635 L2280.76 205.195 L1682.3 205.195  Z\n  \" fill=\"#ffffff\" fill-rule=\"evenodd\" fill-opacity=\"1\"/>\n<polyline clip-path=\"url(#clip2600)\" style=\"stroke:#000000; stroke-width:4; stroke-opacity:1; fill:none\" points=\"\n  1682.3,386.635 2280.76,386.635 2280.76,205.195 1682.3,205.195 1682.3,386.635 \n  \"/>\n<polyline clip-path=\"url(#clip2600)\" style=\"stroke:#009af9; stroke-width:4; stroke-opacity:1; fill:none\" points=\"\n  1706.3,265.675 1850.3,265.675 \n  \"/>\n<g clip-path=\"url(#clip2600)\">\n<text style=\"fill:#000000; fill-opacity:1; font-family:Arial,Helvetica Neue,Helvetica,sans-serif; font-size:48px; text-anchor:start;\" transform=\"rotate(0, 1874.3, 283.175)\" x=\"1874.3\" y=\"283.175\">objective</text>\n</g>\n<polyline clip-path=\"url(#clip2600)\" style=\"stroke:#e26f46; stroke-width:4; stroke-opacity:1; fill:none\" points=\"\n  1706.3,326.155 1850.3,326.155 \n  \"/>\n<g clip-path=\"url(#clip2600)\">\n<text style=\"fill:#000000; fill-opacity:1; font-family:Arial,Helvetica Neue,Helvetica,sans-serif; font-size:48px; text-anchor:start;\" transform=\"rotate(0, 1874.3, 343.655)\" x=\"1874.3\" y=\"343.655\">Normed gradient</text>\n</g>\n</svg>\n"
     },
     "metadata": {},
     "execution_count": 97
    }
   ],
   "metadata": {}
  },
  {
   "cell_type": "markdown",
   "source": [
    "## bPSB update on the same problem\n",
    "\n",
    "This one works occasionally, but often it throws an error in trs_small.\n",
    "Those that I have encountered are a Domain error, Bounds access error, or an error from trs_small returning two solutions (despite specifying compute_local = true). To avoid the last error, I am arbitraly taking the first column in the returned $aₖ$ from trs_small.\n",
    "\n",
    "\n"
   ],
   "metadata": {}
  },
  {
   "cell_type": "code",
   "execution_count": 100,
   "source": [
    "xₖ, meta = qntrHS(f, g!, x0, QN=bPSB)\n",
    "\n",
    "println(\"bPSB terminal objective $(last(meta.f_vals))\")\n",
    "println(\"bPSB terminal gradient $(last(meta.g_norms))\")\n",
    "\n",
    "plot(1:length(meta.f_vals),\n",
    "\t [meta.f_vals meta.g_norms],\n",
    "\t labels=[\"objective\" \"Normed gradient\"],\n",
    "\t title=\"bPSB Trace ($(meta.k) subproblem solves)\")"
   ],
   "outputs": [
    {
     "output_type": "stream",
     "name": "stdout",
     "text": [
      "bPSB terminal objective -0.2744691300345858\n",
      "bPSB terminal gradient 9.122668152877382e-8\n"
     ]
    },
    {
     "output_type": "stream",
     "name": "stderr",
     "text": [
      "┌ Warning: Negative model reduction: -2.4113254036796893e-5 at 4 subproblem solve (Δₖ = 1.0435694442581578, actual reduction: -2.4020185329487465e-5)\n",
      "└ @ Main In[87]:88\n",
      "┌ Warning: There is a secant violation: ||HY - S|| = 1.2679310311848945e-7 at 5 subproblem solve\n",
      "└ @ Main In[87]:68\n"
     ]
    },
    {
     "output_type": "execute_result",
     "data": {
      "image/svg+xml": "<?xml version=\"1.0\" encoding=\"utf-8\"?>\n<svg xmlns=\"http://www.w3.org/2000/svg\" xmlns:xlink=\"http://www.w3.org/1999/xlink\" width=\"600\" height=\"400\" viewBox=\"0 0 2400 1600\">\n<defs>\n  <clipPath id=\"clip3000\">\n    <rect x=\"0\" y=\"0\" width=\"2400\" height=\"1600\"/>\n  </clipPath>\n</defs>\n<path clip-path=\"url(#clip3000)\" d=\"\nM0 1600 L2400 1600 L2400 0 L0 0  Z\n  \" fill=\"#ffffff\" fill-rule=\"evenodd\" fill-opacity=\"1\"/>\n<defs>\n  <clipPath id=\"clip3001\">\n    <rect x=\"480\" y=\"0\" width=\"1681\" height=\"1600\"/>\n  </clipPath>\n</defs>\n<path clip-path=\"url(#clip3000)\" d=\"\nM167.279 1487.47 L2352.76 1487.47 L2352.76 121.675 L167.279 121.675  Z\n  \" fill=\"#ffffff\" fill-rule=\"evenodd\" fill-opacity=\"1\"/>\n<defs>\n  <clipPath id=\"clip3002\">\n    <rect x=\"167\" y=\"121\" width=\"2186\" height=\"1367\"/>\n  </clipPath>\n</defs>\n<polyline clip-path=\"url(#clip3002)\" style=\"stroke:#000000; stroke-width:2; stroke-opacity:0.1; fill:none\" points=\"\n  523.671,1487.47 523.671,121.675 \n  \"/>\n<polyline clip-path=\"url(#clip3002)\" style=\"stroke:#000000; stroke-width:2; stroke-opacity:0.1; fill:none\" points=\"\n  1112.75,1487.47 1112.75,121.675 \n  \"/>\n<polyline clip-path=\"url(#clip3002)\" style=\"stroke:#000000; stroke-width:2; stroke-opacity:0.1; fill:none\" points=\"\n  1701.83,1487.47 1701.83,121.675 \n  \"/>\n<polyline clip-path=\"url(#clip3002)\" style=\"stroke:#000000; stroke-width:2; stroke-opacity:0.1; fill:none\" points=\"\n  2290.9,1487.47 2290.9,121.675 \n  \"/>\n<polyline clip-path=\"url(#clip3002)\" style=\"stroke:#000000; stroke-width:2; stroke-opacity:0.1; fill:none\" points=\"\n  167.279,1447.31 2352.76,1447.31 \n  \"/>\n<polyline clip-path=\"url(#clip3002)\" style=\"stroke:#000000; stroke-width:2; stroke-opacity:0.1; fill:none\" points=\"\n  167.279,1172.45 2352.76,1172.45 \n  \"/>\n<polyline clip-path=\"url(#clip3002)\" style=\"stroke:#000000; stroke-width:2; stroke-opacity:0.1; fill:none\" points=\"\n  167.279,897.598 2352.76,897.598 \n  \"/>\n<polyline clip-path=\"url(#clip3002)\" style=\"stroke:#000000; stroke-width:2; stroke-opacity:0.1; fill:none\" points=\"\n  167.279,622.741 2352.76,622.741 \n  \"/>\n<polyline clip-path=\"url(#clip3002)\" style=\"stroke:#000000; stroke-width:2; stroke-opacity:0.1; fill:none\" points=\"\n  167.279,347.884 2352.76,347.884 \n  \"/>\n<polyline clip-path=\"url(#clip3000)\" style=\"stroke:#000000; stroke-width:4; stroke-opacity:1; fill:none\" points=\"\n  167.279,1487.47 2352.76,1487.47 \n  \"/>\n<polyline clip-path=\"url(#clip3000)\" style=\"stroke:#000000; stroke-width:4; stroke-opacity:1; fill:none\" points=\"\n  167.279,1487.47 167.279,121.675 \n  \"/>\n<polyline clip-path=\"url(#clip3000)\" style=\"stroke:#000000; stroke-width:4; stroke-opacity:1; fill:none\" points=\"\n  523.671,1487.47 523.671,1471.09 \n  \"/>\n<polyline clip-path=\"url(#clip3000)\" style=\"stroke:#000000; stroke-width:4; stroke-opacity:1; fill:none\" points=\"\n  1112.75,1487.47 1112.75,1471.09 \n  \"/>\n<polyline clip-path=\"url(#clip3000)\" style=\"stroke:#000000; stroke-width:4; stroke-opacity:1; fill:none\" points=\"\n  1701.83,1487.47 1701.83,1471.09 \n  \"/>\n<polyline clip-path=\"url(#clip3000)\" style=\"stroke:#000000; stroke-width:4; stroke-opacity:1; fill:none\" points=\"\n  2290.9,1487.47 2290.9,1471.09 \n  \"/>\n<polyline clip-path=\"url(#clip3000)\" style=\"stroke:#000000; stroke-width:4; stroke-opacity:1; fill:none\" points=\"\n  167.279,1447.31 193.505,1447.31 \n  \"/>\n<polyline clip-path=\"url(#clip3000)\" style=\"stroke:#000000; stroke-width:4; stroke-opacity:1; fill:none\" points=\"\n  167.279,1172.45 193.505,1172.45 \n  \"/>\n<polyline clip-path=\"url(#clip3000)\" style=\"stroke:#000000; stroke-width:4; stroke-opacity:1; fill:none\" points=\"\n  167.279,897.598 193.505,897.598 \n  \"/>\n<polyline clip-path=\"url(#clip3000)\" style=\"stroke:#000000; stroke-width:4; stroke-opacity:1; fill:none\" points=\"\n  167.279,622.741 193.505,622.741 \n  \"/>\n<polyline clip-path=\"url(#clip3000)\" style=\"stroke:#000000; stroke-width:4; stroke-opacity:1; fill:none\" points=\"\n  167.279,347.884 193.505,347.884 \n  \"/>\n<g clip-path=\"url(#clip3000)\">\n<text style=\"fill:#000000; fill-opacity:1; font-family:Arial,Helvetica Neue,Helvetica,sans-serif; font-size:48px; text-anchor:middle;\" transform=\"rotate(0, 523.671, 1541.47)\" x=\"523.671\" y=\"1541.47\">2</text>\n</g>\n<g clip-path=\"url(#clip3000)\">\n<text style=\"fill:#000000; fill-opacity:1; font-family:Arial,Helvetica Neue,Helvetica,sans-serif; font-size:48px; text-anchor:middle;\" transform=\"rotate(0, 1112.75, 1541.47)\" x=\"1112.75\" y=\"1541.47\">4</text>\n</g>\n<g clip-path=\"url(#clip3000)\">\n<text style=\"fill:#000000; fill-opacity:1; font-family:Arial,Helvetica Neue,Helvetica,sans-serif; font-size:48px; text-anchor:middle;\" transform=\"rotate(0, 1701.83, 1541.47)\" x=\"1701.83\" y=\"1541.47\">6</text>\n</g>\n<g clip-path=\"url(#clip3000)\">\n<text style=\"fill:#000000; fill-opacity:1; font-family:Arial,Helvetica Neue,Helvetica,sans-serif; font-size:48px; text-anchor:middle;\" transform=\"rotate(0, 2290.9, 1541.47)\" x=\"2290.9\" y=\"1541.47\">8</text>\n</g>\n<g clip-path=\"url(#clip3000)\">\n<text style=\"fill:#000000; fill-opacity:1; font-family:Arial,Helvetica Neue,Helvetica,sans-serif; font-size:48px; text-anchor:end;\" transform=\"rotate(0, 143.279, 1464.81)\" x=\"143.279\" y=\"1464.81\">0</text>\n</g>\n<g clip-path=\"url(#clip3000)\">\n<text style=\"fill:#000000; fill-opacity:1; font-family:Arial,Helvetica Neue,Helvetica,sans-serif; font-size:48px; text-anchor:end;\" transform=\"rotate(0, 143.279, 1189.95)\" x=\"143.279\" y=\"1189.95\">50</text>\n</g>\n<g clip-path=\"url(#clip3000)\">\n<text style=\"fill:#000000; fill-opacity:1; font-family:Arial,Helvetica Neue,Helvetica,sans-serif; font-size:48px; text-anchor:end;\" transform=\"rotate(0, 143.279, 915.098)\" x=\"143.279\" y=\"915.098\">100</text>\n</g>\n<g clip-path=\"url(#clip3000)\">\n<text style=\"fill:#000000; fill-opacity:1; font-family:Arial,Helvetica Neue,Helvetica,sans-serif; font-size:48px; text-anchor:end;\" transform=\"rotate(0, 143.279, 640.241)\" x=\"143.279\" y=\"640.241\">150</text>\n</g>\n<g clip-path=\"url(#clip3000)\">\n<text style=\"fill:#000000; fill-opacity:1; font-family:Arial,Helvetica Neue,Helvetica,sans-serif; font-size:48px; text-anchor:end;\" transform=\"rotate(0, 143.279, 365.384)\" x=\"143.279\" y=\"365.384\">200</text>\n</g>\n<g clip-path=\"url(#clip3000)\">\n<text style=\"fill:#000000; fill-opacity:1; font-family:Arial,Helvetica Neue,Helvetica,sans-serif; font-size:84px; text-anchor:middle;\" transform=\"rotate(0, 1260.02, 73.2)\" x=\"1260.02\" y=\"73.2\">bPSB Trace (7 subproblem solves)</text>\n</g>\n<polyline clip-path=\"url(#clip3002)\" style=\"stroke:#009af9; stroke-width:4; stroke-opacity:1; fill:none\" points=\"\n  229.132,631.467 523.671,846.429 818.21,1442.76 1112.75,1448.82 1407.29,1448.82 1701.83,1448.82 1996.36,1448.82 2290.9,1448.82 \n  \"/>\n<polyline clip-path=\"url(#clip3002)\" style=\"stroke:#e26f46; stroke-width:4; stroke-opacity:1; fill:none\" points=\"\n  229.132,160.33 523.671,890.924 818.21,1401.76 1112.75,1447.25 1407.29,1447.03 1701.83,1447.31 1996.36,1447.31 2290.9,1447.31 \n  \"/>\n<path clip-path=\"url(#clip3000)\" d=\"\nM1682.3 386.635 L2280.76 386.635 L2280.76 205.195 L1682.3 205.195  Z\n  \" fill=\"#ffffff\" fill-rule=\"evenodd\" fill-opacity=\"1\"/>\n<polyline clip-path=\"url(#clip3000)\" style=\"stroke:#000000; stroke-width:4; stroke-opacity:1; fill:none\" points=\"\n  1682.3,386.635 2280.76,386.635 2280.76,205.195 1682.3,205.195 1682.3,386.635 \n  \"/>\n<polyline clip-path=\"url(#clip3000)\" style=\"stroke:#009af9; stroke-width:4; stroke-opacity:1; fill:none\" points=\"\n  1706.3,265.675 1850.3,265.675 \n  \"/>\n<g clip-path=\"url(#clip3000)\">\n<text style=\"fill:#000000; fill-opacity:1; font-family:Arial,Helvetica Neue,Helvetica,sans-serif; font-size:48px; text-anchor:start;\" transform=\"rotate(0, 1874.3, 283.175)\" x=\"1874.3\" y=\"283.175\">objective</text>\n</g>\n<polyline clip-path=\"url(#clip3000)\" style=\"stroke:#e26f46; stroke-width:4; stroke-opacity:1; fill:none\" points=\"\n  1706.3,326.155 1850.3,326.155 \n  \"/>\n<g clip-path=\"url(#clip3000)\">\n<text style=\"fill:#000000; fill-opacity:1; font-family:Arial,Helvetica Neue,Helvetica,sans-serif; font-size:48px; text-anchor:start;\" transform=\"rotate(0, 1874.3, 343.655)\" x=\"1874.3\" y=\"343.655\">Normed gradient</text>\n</g>\n</svg>\n"
     },
     "metadata": {},
     "execution_count": 100
    }
   ],
   "metadata": {}
  },
  {
   "cell_type": "markdown",
   "source": [
    "## Tesing scheme a POWER (A CUTE problem)"
   ],
   "metadata": {}
  },
  {
   "cell_type": "code",
   "execution_count": 101,
   "source": [
    "POWER = (x) -> begin\n",
    "    fx = 0.0\n",
    "    for i in 1:lastindex(x)\n",
    "        fx += x[i]^2*i\n",
    "    end\n",
    "    \n",
    "    return fx^2\n",
    "end\n",
    "\n",
    "∇POWER = (g, x) -> begin\n",
    "    α = 0.0\n",
    "    for i in firstindex(x):lastindex(x)\n",
    "        α += x[i]^2*i\n",
    "    end\n",
    "    for i in firstindex(x):lastindex(x)\n",
    "        g[i] = 4α*i*x[i]\n",
    "    end\n",
    "    return g\n",
    "end\n",
    "\n",
    "\n",
    "function simulate(n, b)\n",
    "    plots = []\n",
    "    x0 = ones(n)\n",
    "\n",
    "    result_sr1 = qntrHS(POWER, ∇POWER, x0, d = Driver(n = length(x0 ), s = b, QN = bSR1)); \n",
    "\n",
    "    println(\"bSR1 terminal objective $(last(result_sr1[2].f_vals))\")\n",
    "    println(\"bSR1 terminal gradient $(last(result_sr1[2].g_norms ))\")\n",
    "\n",
    "    p = plot(1:length(result_sr1[2].f_vals), [result_sr1[2].f_vals result_sr1[2].g_norms],\n",
    "            labels=[\"Objective\" \"Normed gradient\"],\n",
    "            title=\"bSR1 Trace ($(result_sr1[2].k) iterations)\",\n",
    "            yaxis=:log)\n",
    "\n",
    "    result_psb = qntrHS(POWER, ∇POWER, x0, d = Driver(n=length(x0), s=b, QN=bPSB)); \n",
    "    g = plot(1:length(result_psb[2].f_vals), [result_psb[2].f_vals result_psb[2].g_norms],\n",
    "            labels=[\"Objective\" \"Normed gradient\"],\n",
    "            title=\"bPSB Trace ($(result_psb[2].k) iterations)\",\n",
    "            yaxis=:log)\n",
    "    println(\"bPSB terminal objective $(last(result_psb[2].f_vals ))\")\n",
    "    println(\"bPSB terminal gradient $(last(result_psb[2].g_norms ))\")\n",
    "\n",
    "    return plot(p, g, layout=(2,1))\n",
    "end"
   ],
   "outputs": [
    {
     "output_type": "execute_result",
     "data": {
      "text/plain": [
       "simulate (generic function with 1 method)"
      ]
     },
     "metadata": {},
     "execution_count": 101
    }
   ],
   "metadata": {}
  },
  {
   "cell_type": "code",
   "execution_count": 102,
   "source": [
    "simulate(10, 3)"
   ],
   "outputs": [
    {
     "output_type": "stream",
     "name": "stdout",
     "text": [
      "bSR1 terminal objective 9.502957214989717e-10\n",
      "bSR1 terminal gradient 8.205532680995667e-7\n",
      "bPSB terminal objective 3.687382804467414e-10\n",
      "bPSB terminal gradient 3.939968332777184e-7\n"
     ]
    },
    {
     "output_type": "stream",
     "name": "stderr",
     "text": [
      "┌ Warning: There is a secant violation: ||HY - S|| = 1763.1958349438946 at 1 subproblem solve\n",
      "└ @ Main In[87]:68\n",
      "┌ Warning: There is a secant violation: ||HY - S|| = 1.2601979808117545 at 3 subproblem solve\n",
      "└ @ Main In[87]:68\n",
      "┌ Warning: There is a secant violation: ||HY - S|| = 481.65893375938094 at 1 subproblem solve\n",
      "└ @ Main In[87]:68\n",
      "┌ Warning: Negative model reduction: -8.167983415628958e-10 at 30 subproblem solve (Δₖ = 0.000152849010274979, actual reduction: -7.996443895714343e-10)\n",
      "└ @ Main In[87]:88\n"
     ]
    },
    {
     "output_type": "execute_result",
     "data": {
      "image/svg+xml": "<?xml version=\"1.0\" encoding=\"utf-8\"?>\n<svg xmlns=\"http://www.w3.org/2000/svg\" xmlns:xlink=\"http://www.w3.org/1999/xlink\" width=\"600\" height=\"400\" viewBox=\"0 0 2400 1600\">\n<defs>\n  <clipPath id=\"clip3400\">\n    <rect x=\"0\" y=\"0\" width=\"2400\" height=\"1600\"/>\n  </clipPath>\n</defs>\n<path clip-path=\"url(#clip3400)\" d=\"\nM0 1600 L2400 1600 L2400 0 L0 0  Z\n  \" fill=\"#ffffff\" fill-rule=\"evenodd\" fill-opacity=\"1\"/>\n<defs>\n  <clipPath id=\"clip3401\">\n    <rect x=\"480\" y=\"0\" width=\"1681\" height=\"1600\"/>\n  </clipPath>\n</defs>\n<path clip-path=\"url(#clip3400)\" d=\"\nM258.107 687.475 L2352.76 687.475 L2352.76 121.675 L258.107 121.675  Z\n  \" fill=\"#ffffff\" fill-rule=\"evenodd\" fill-opacity=\"1\"/>\n<defs>\n  <clipPath id=\"clip3402\">\n    <rect x=\"258\" y=\"121\" width=\"2096\" height=\"567\"/>\n  </clipPath>\n</defs>\n<polyline clip-path=\"url(#clip3402)\" style=\"stroke:#000000; stroke-width:2; stroke-opacity:0.1; fill:none\" points=\"\n  693.787,687.475 693.787,121.675 \n  \"/>\n<polyline clip-path=\"url(#clip3402)\" style=\"stroke:#000000; stroke-width:2; stroke-opacity:0.1; fill:none\" points=\"\n  1164.28,687.475 1164.28,121.675 \n  \"/>\n<polyline clip-path=\"url(#clip3402)\" style=\"stroke:#000000; stroke-width:2; stroke-opacity:0.1; fill:none\" points=\"\n  1634.78,687.475 1634.78,121.675 \n  \"/>\n<polyline clip-path=\"url(#clip3402)\" style=\"stroke:#000000; stroke-width:2; stroke-opacity:0.1; fill:none\" points=\"\n  2105.27,687.475 2105.27,121.675 \n  \"/>\n<polyline clip-path=\"url(#clip3402)\" style=\"stroke:#000000; stroke-width:2; stroke-opacity:0.1; fill:none\" points=\"\n  258.107,607.271 2352.76,607.271 \n  \"/>\n<polyline clip-path=\"url(#clip3402)\" style=\"stroke:#000000; stroke-width:2; stroke-opacity:0.1; fill:none\" points=\"\n  258.107,501.843 2352.76,501.843 \n  \"/>\n<polyline clip-path=\"url(#clip3402)\" style=\"stroke:#000000; stroke-width:2; stroke-opacity:0.1; fill:none\" points=\"\n  258.107,396.415 2352.76,396.415 \n  \"/>\n<polyline clip-path=\"url(#clip3402)\" style=\"stroke:#000000; stroke-width:2; stroke-opacity:0.1; fill:none\" points=\"\n  258.107,290.987 2352.76,290.987 \n  \"/>\n<polyline clip-path=\"url(#clip3402)\" style=\"stroke:#000000; stroke-width:2; stroke-opacity:0.1; fill:none\" points=\"\n  258.107,185.559 2352.76,185.559 \n  \"/>\n<polyline clip-path=\"url(#clip3400)\" style=\"stroke:#000000; stroke-width:4; stroke-opacity:1; fill:none\" points=\"\n  258.107,687.475 2352.76,687.475 \n  \"/>\n<polyline clip-path=\"url(#clip3400)\" style=\"stroke:#000000; stroke-width:4; stroke-opacity:1; fill:none\" points=\"\n  258.107,687.475 258.107,121.675 \n  \"/>\n<polyline clip-path=\"url(#clip3400)\" style=\"stroke:#000000; stroke-width:4; stroke-opacity:1; fill:none\" points=\"\n  693.787,687.475 693.787,680.685 \n  \"/>\n<polyline clip-path=\"url(#clip3400)\" style=\"stroke:#000000; stroke-width:4; stroke-opacity:1; fill:none\" points=\"\n  1164.28,687.475 1164.28,680.685 \n  \"/>\n<polyline clip-path=\"url(#clip3400)\" style=\"stroke:#000000; stroke-width:4; stroke-opacity:1; fill:none\" points=\"\n  1634.78,687.475 1634.78,680.685 \n  \"/>\n<polyline clip-path=\"url(#clip3400)\" style=\"stroke:#000000; stroke-width:4; stroke-opacity:1; fill:none\" points=\"\n  2105.27,687.475 2105.27,680.685 \n  \"/>\n<polyline clip-path=\"url(#clip3400)\" style=\"stroke:#000000; stroke-width:4; stroke-opacity:1; fill:none\" points=\"\n  258.107,607.271 283.243,607.271 \n  \"/>\n<polyline clip-path=\"url(#clip3400)\" style=\"stroke:#000000; stroke-width:4; stroke-opacity:1; fill:none\" points=\"\n  258.107,501.843 283.243,501.843 \n  \"/>\n<polyline clip-path=\"url(#clip3400)\" style=\"stroke:#000000; stroke-width:4; stroke-opacity:1; fill:none\" points=\"\n  258.107,396.415 283.243,396.415 \n  \"/>\n<polyline clip-path=\"url(#clip3400)\" style=\"stroke:#000000; stroke-width:4; stroke-opacity:1; fill:none\" points=\"\n  258.107,290.987 283.243,290.987 \n  \"/>\n<polyline clip-path=\"url(#clip3400)\" style=\"stroke:#000000; stroke-width:4; stroke-opacity:1; fill:none\" points=\"\n  258.107,185.559 283.243,185.559 \n  \"/>\n<g clip-path=\"url(#clip3400)\">\n<text style=\"fill:#000000; fill-opacity:1; font-family:Arial,Helvetica Neue,Helvetica,sans-serif; font-size:48px; text-anchor:middle;\" transform=\"rotate(0, 693.787, 741.475)\" x=\"693.787\" y=\"741.475\">5</text>\n</g>\n<g clip-path=\"url(#clip3400)\">\n<text style=\"fill:#000000; fill-opacity:1; font-family:Arial,Helvetica Neue,Helvetica,sans-serif; font-size:48px; text-anchor:middle;\" transform=\"rotate(0, 1164.28, 741.475)\" x=\"1164.28\" y=\"741.475\">10</text>\n</g>\n<g clip-path=\"url(#clip3400)\">\n<text style=\"fill:#000000; fill-opacity:1; font-family:Arial,Helvetica Neue,Helvetica,sans-serif; font-size:48px; text-anchor:middle;\" transform=\"rotate(0, 1634.78, 741.475)\" x=\"1634.78\" y=\"741.475\">15</text>\n</g>\n<g clip-path=\"url(#clip3400)\">\n<text style=\"fill:#000000; fill-opacity:1; font-family:Arial,Helvetica Neue,Helvetica,sans-serif; font-size:48px; text-anchor:middle;\" transform=\"rotate(0, 2105.27, 741.475)\" x=\"2105.27\" y=\"741.475\">20</text>\n</g>\n<g clip-path=\"url(#clip3400)\">\n<text style=\"fill:#000000; fill-opacity:1; font-family:Arial,Helvetica Neue,Helvetica,sans-serif; font-size:48px; text-anchor:start;\" transform=\"rotate(0, 92.5101, 630.999)\" x=\"92.5101\" y=\"630.999\">10</text>\n</g>\n<g clip-path=\"url(#clip3400)\">\n<text style=\"fill:#000000; fill-opacity:1; font-family:Arial,Helvetica Neue,Helvetica,sans-serif; font-size:38px; text-anchor:start;\" transform=\"rotate(0, 146.035, 603.588)\" x=\"146.035\" y=\"603.588\">-</text>\n</g>\n<g clip-path=\"url(#clip3400)\">\n<text style=\"fill:#000000; fill-opacity:1; font-family:Arial,Helvetica Neue,Helvetica,sans-serif; font-size:38px; text-anchor:start;\" transform=\"rotate(0, 168.874, 603.588)\" x=\"168.874\" y=\"603.588\">7.5 </text>\n</g>\n<g clip-path=\"url(#clip3400)\">\n<text style=\"fill:#000000; fill-opacity:1; font-family:Arial,Helvetica Neue,Helvetica,sans-serif; font-size:48px; text-anchor:start;\" transform=\"rotate(0, 92.5101, 525.571)\" x=\"92.5101\" y=\"525.571\">10</text>\n</g>\n<g clip-path=\"url(#clip3400)\">\n<text style=\"fill:#000000; fill-opacity:1; font-family:Arial,Helvetica Neue,Helvetica,sans-serif; font-size:38px; text-anchor:start;\" transform=\"rotate(0, 146.035, 498.16)\" x=\"146.035\" y=\"498.16\">-</text>\n</g>\n<g clip-path=\"url(#clip3400)\">\n<text style=\"fill:#000000; fill-opacity:1; font-family:Arial,Helvetica Neue,Helvetica,sans-serif; font-size:38px; text-anchor:start;\" transform=\"rotate(0, 168.874, 498.16)\" x=\"168.874\" y=\"498.16\">5.0 </text>\n</g>\n<g clip-path=\"url(#clip3400)\">\n<text style=\"fill:#000000; fill-opacity:1; font-family:Arial,Helvetica Neue,Helvetica,sans-serif; font-size:48px; text-anchor:start;\" transform=\"rotate(0, 92.5101, 420.143)\" x=\"92.5101\" y=\"420.143\">10</text>\n</g>\n<g clip-path=\"url(#clip3400)\">\n<text style=\"fill:#000000; fill-opacity:1; font-family:Arial,Helvetica Neue,Helvetica,sans-serif; font-size:38px; text-anchor:start;\" transform=\"rotate(0, 146.035, 392.732)\" x=\"146.035\" y=\"392.732\">-</text>\n</g>\n<g clip-path=\"url(#clip3400)\">\n<text style=\"fill:#000000; fill-opacity:1; font-family:Arial,Helvetica Neue,Helvetica,sans-serif; font-size:38px; text-anchor:start;\" transform=\"rotate(0, 168.874, 392.732)\" x=\"168.874\" y=\"392.732\">2.5 </text>\n</g>\n<g clip-path=\"url(#clip3400)\">\n<text style=\"fill:#000000; fill-opacity:1; font-family:Arial,Helvetica Neue,Helvetica,sans-serif; font-size:48px; text-anchor:start;\" transform=\"rotate(0, 115.35, 314.715)\" x=\"115.35\" y=\"314.715\">10</text>\n</g>\n<g clip-path=\"url(#clip3400)\">\n<text style=\"fill:#000000; fill-opacity:1; font-family:Arial,Helvetica Neue,Helvetica,sans-serif; font-size:38px; text-anchor:start;\" transform=\"rotate(0, 168.874, 287.304)\" x=\"168.874\" y=\"287.304\">0.0 </text>\n</g>\n<g clip-path=\"url(#clip3400)\">\n<text style=\"fill:#000000; fill-opacity:1; font-family:Arial,Helvetica Neue,Helvetica,sans-serif; font-size:48px; text-anchor:start;\" transform=\"rotate(0, 115.35, 209.287)\" x=\"115.35\" y=\"209.287\">10</text>\n</g>\n<g clip-path=\"url(#clip3400)\">\n<text style=\"fill:#000000; fill-opacity:1; font-family:Arial,Helvetica Neue,Helvetica,sans-serif; font-size:38px; text-anchor:start;\" transform=\"rotate(0, 168.874, 181.876)\" x=\"168.874\" y=\"181.876\">2.5 </text>\n</g>\n<g clip-path=\"url(#clip3400)\">\n<text style=\"fill:#000000; fill-opacity:1; font-family:Arial,Helvetica Neue,Helvetica,sans-serif; font-size:84px; text-anchor:middle;\" transform=\"rotate(0, 1305.43, 73.2)\" x=\"1305.43\" y=\"73.2\">bSR1 Trace (21 iterations)</text>\n</g>\n<polyline clip-path=\"url(#clip3402)\" style=\"stroke:#009af9; stroke-width:4; stroke-opacity:1; fill:none\" points=\"\n  317.39,137.688 411.489,169.308 505.588,176.02 599.688,205.193 693.787,233.735 787.886,262.828 881.985,291.438 976.084,320.267 1070.18,348.84 1164.28,377.268 \n  1258.38,405.877 1352.48,433.703 1446.58,462.348 1540.68,489.406 1634.78,517.935 1728.88,544.799 1822.98,572.994 1917.08,594.274 2011.18,611.817 2105.27,633.225 \n  2199.37,650.167 2293.47,671.462 \n  \"/>\n<polyline clip-path=\"url(#clip3402)\" style=\"stroke:#e26f46; stroke-width:4; stroke-opacity:1; fill:none\" points=\"\n  317.39,144.201 411.489,156.602 505.588,162.321 599.688,184.485 693.787,206.5 787.886,228.667 881.985,250.717 976.084,272.838 1070.18,294.864 1164.28,316.915 \n  1258.38,338.931 1352.48,360.873 1446.58,382.884 1540.68,404.667 1634.78,426.653 1728.88,448.285 1822.98,470.204 1917.08,488.958 2011.18,499.731 2105.27,518.612 \n  2199.37,528.755 2293.47,547.636 \n  \"/>\n<path clip-path=\"url(#clip3400)\" d=\"\nM1682.3 386.635 L2280.76 386.635 L2280.76 205.195 L1682.3 205.195  Z\n  \" fill=\"#ffffff\" fill-rule=\"evenodd\" fill-opacity=\"1\"/>\n<polyline clip-path=\"url(#clip3400)\" style=\"stroke:#000000; stroke-width:4; stroke-opacity:1; fill:none\" points=\"\n  1682.3,386.635 2280.76,386.635 2280.76,205.195 1682.3,205.195 1682.3,386.635 \n  \"/>\n<polyline clip-path=\"url(#clip3400)\" style=\"stroke:#009af9; stroke-width:4; stroke-opacity:1; fill:none\" points=\"\n  1706.3,265.675 1850.3,265.675 \n  \"/>\n<g clip-path=\"url(#clip3400)\">\n<text style=\"fill:#000000; fill-opacity:1; font-family:Arial,Helvetica Neue,Helvetica,sans-serif; font-size:48px; text-anchor:start;\" transform=\"rotate(0, 1874.3, 283.175)\" x=\"1874.3\" y=\"283.175\">Objective</text>\n</g>\n<polyline clip-path=\"url(#clip3400)\" style=\"stroke:#e26f46; stroke-width:4; stroke-opacity:1; fill:none\" points=\"\n  1706.3,326.155 1850.3,326.155 \n  \"/>\n<g clip-path=\"url(#clip3400)\">\n<text style=\"fill:#000000; fill-opacity:1; font-family:Arial,Helvetica Neue,Helvetica,sans-serif; font-size:48px; text-anchor:start;\" transform=\"rotate(0, 1874.3, 343.655)\" x=\"1874.3\" y=\"343.655\">Normed gradient</text>\n</g>\n<path clip-path=\"url(#clip3400)\" d=\"\nM258.107 1487.47 L2352.76 1487.47 L2352.76 921.675 L258.107 921.675  Z\n  \" fill=\"#ffffff\" fill-rule=\"evenodd\" fill-opacity=\"1\"/>\n<defs>\n  <clipPath id=\"clip3403\">\n    <rect x=\"258\" y=\"921\" width=\"2096\" height=\"567\"/>\n  </clipPath>\n</defs>\n<polyline clip-path=\"url(#clip3403)\" style=\"stroke:#000000; stroke-width:2; stroke-opacity:0.1; fill:none\" points=\"\n  556.915,1487.47 556.915,921.675 \n  \"/>\n<polyline clip-path=\"url(#clip3403)\" style=\"stroke:#000000; stroke-width:2; stroke-opacity:0.1; fill:none\" points=\"\n  856.322,1487.47 856.322,921.675 \n  \"/>\n<polyline clip-path=\"url(#clip3403)\" style=\"stroke:#000000; stroke-width:2; stroke-opacity:0.1; fill:none\" points=\"\n  1155.73,1487.47 1155.73,921.675 \n  \"/>\n<polyline clip-path=\"url(#clip3403)\" style=\"stroke:#000000; stroke-width:2; stroke-opacity:0.1; fill:none\" points=\"\n  1455.13,1487.47 1455.13,921.675 \n  \"/>\n<polyline clip-path=\"url(#clip3403)\" style=\"stroke:#000000; stroke-width:2; stroke-opacity:0.1; fill:none\" points=\"\n  1754.54,1487.47 1754.54,921.675 \n  \"/>\n<polyline clip-path=\"url(#clip3403)\" style=\"stroke:#000000; stroke-width:2; stroke-opacity:0.1; fill:none\" points=\"\n  2053.95,1487.47 2053.95,921.675 \n  \"/>\n<polyline clip-path=\"url(#clip3403)\" style=\"stroke:#000000; stroke-width:2; stroke-opacity:0.1; fill:none\" points=\"\n  258.107,1392.5 2352.76,1392.5 \n  \"/>\n<polyline clip-path=\"url(#clip3403)\" style=\"stroke:#000000; stroke-width:2; stroke-opacity:0.1; fill:none\" points=\"\n  258.107,1290.39 2352.76,1290.39 \n  \"/>\n<polyline clip-path=\"url(#clip3403)\" style=\"stroke:#000000; stroke-width:2; stroke-opacity:0.1; fill:none\" points=\"\n  258.107,1188.28 2352.76,1188.28 \n  \"/>\n<polyline clip-path=\"url(#clip3403)\" style=\"stroke:#000000; stroke-width:2; stroke-opacity:0.1; fill:none\" points=\"\n  258.107,1086.16 2352.76,1086.16 \n  \"/>\n<polyline clip-path=\"url(#clip3403)\" style=\"stroke:#000000; stroke-width:2; stroke-opacity:0.1; fill:none\" points=\"\n  258.107,984.053 2352.76,984.053 \n  \"/>\n<polyline clip-path=\"url(#clip3400)\" style=\"stroke:#000000; stroke-width:4; stroke-opacity:1; fill:none\" points=\"\n  258.107,1487.47 2352.76,1487.47 \n  \"/>\n<polyline clip-path=\"url(#clip3400)\" style=\"stroke:#000000; stroke-width:4; stroke-opacity:1; fill:none\" points=\"\n  258.107,1487.47 258.107,921.675 \n  \"/>\n<polyline clip-path=\"url(#clip3400)\" style=\"stroke:#000000; stroke-width:4; stroke-opacity:1; fill:none\" points=\"\n  556.915,1487.47 556.915,1480.69 \n  \"/>\n<polyline clip-path=\"url(#clip3400)\" style=\"stroke:#000000; stroke-width:4; stroke-opacity:1; fill:none\" points=\"\n  856.322,1487.47 856.322,1480.69 \n  \"/>\n<polyline clip-path=\"url(#clip3400)\" style=\"stroke:#000000; stroke-width:4; stroke-opacity:1; fill:none\" points=\"\n  1155.73,1487.47 1155.73,1480.69 \n  \"/>\n<polyline clip-path=\"url(#clip3400)\" style=\"stroke:#000000; stroke-width:4; stroke-opacity:1; fill:none\" points=\"\n  1455.13,1487.47 1455.13,1480.69 \n  \"/>\n<polyline clip-path=\"url(#clip3400)\" style=\"stroke:#000000; stroke-width:4; stroke-opacity:1; fill:none\" points=\"\n  1754.54,1487.47 1754.54,1480.69 \n  \"/>\n<polyline clip-path=\"url(#clip3400)\" style=\"stroke:#000000; stroke-width:4; stroke-opacity:1; fill:none\" points=\"\n  2053.95,1487.47 2053.95,1480.69 \n  \"/>\n<polyline clip-path=\"url(#clip3400)\" style=\"stroke:#000000; stroke-width:4; stroke-opacity:1; fill:none\" points=\"\n  258.107,1392.5 283.243,1392.5 \n  \"/>\n<polyline clip-path=\"url(#clip3400)\" style=\"stroke:#000000; stroke-width:4; stroke-opacity:1; fill:none\" points=\"\n  258.107,1290.39 283.243,1290.39 \n  \"/>\n<polyline clip-path=\"url(#clip3400)\" style=\"stroke:#000000; stroke-width:4; stroke-opacity:1; fill:none\" points=\"\n  258.107,1188.28 283.243,1188.28 \n  \"/>\n<polyline clip-path=\"url(#clip3400)\" style=\"stroke:#000000; stroke-width:4; stroke-opacity:1; fill:none\" points=\"\n  258.107,1086.16 283.243,1086.16 \n  \"/>\n<polyline clip-path=\"url(#clip3400)\" style=\"stroke:#000000; stroke-width:4; stroke-opacity:1; fill:none\" points=\"\n  258.107,984.053 283.243,984.053 \n  \"/>\n<g clip-path=\"url(#clip3400)\">\n<text style=\"fill:#000000; fill-opacity:1; font-family:Arial,Helvetica Neue,Helvetica,sans-serif; font-size:48px; text-anchor:middle;\" transform=\"rotate(0, 556.915, 1541.47)\" x=\"556.915\" y=\"1541.47\">5</text>\n</g>\n<g clip-path=\"url(#clip3400)\">\n<text style=\"fill:#000000; fill-opacity:1; font-family:Arial,Helvetica Neue,Helvetica,sans-serif; font-size:48px; text-anchor:middle;\" transform=\"rotate(0, 856.322, 1541.47)\" x=\"856.322\" y=\"1541.47\">10</text>\n</g>\n<g clip-path=\"url(#clip3400)\">\n<text style=\"fill:#000000; fill-opacity:1; font-family:Arial,Helvetica Neue,Helvetica,sans-serif; font-size:48px; text-anchor:middle;\" transform=\"rotate(0, 1155.73, 1541.47)\" x=\"1155.73\" y=\"1541.47\">15</text>\n</g>\n<g clip-path=\"url(#clip3400)\">\n<text style=\"fill:#000000; fill-opacity:1; font-family:Arial,Helvetica Neue,Helvetica,sans-serif; font-size:48px; text-anchor:middle;\" transform=\"rotate(0, 1455.13, 1541.47)\" x=\"1455.13\" y=\"1541.47\">20</text>\n</g>\n<g clip-path=\"url(#clip3400)\">\n<text style=\"fill:#000000; fill-opacity:1; font-family:Arial,Helvetica Neue,Helvetica,sans-serif; font-size:48px; text-anchor:middle;\" transform=\"rotate(0, 1754.54, 1541.47)\" x=\"1754.54\" y=\"1541.47\">25</text>\n</g>\n<g clip-path=\"url(#clip3400)\">\n<text style=\"fill:#000000; fill-opacity:1; font-family:Arial,Helvetica Neue,Helvetica,sans-serif; font-size:48px; text-anchor:middle;\" transform=\"rotate(0, 2053.95, 1541.47)\" x=\"2053.95\" y=\"1541.47\">30</text>\n</g>\n<g clip-path=\"url(#clip3400)\">\n<text style=\"fill:#000000; fill-opacity:1; font-family:Arial,Helvetica Neue,Helvetica,sans-serif; font-size:48px; text-anchor:start;\" transform=\"rotate(0, 92.5101, 1416.23)\" x=\"92.5101\" y=\"1416.23\">10</text>\n</g>\n<g clip-path=\"url(#clip3400)\">\n<text style=\"fill:#000000; fill-opacity:1; font-family:Arial,Helvetica Neue,Helvetica,sans-serif; font-size:38px; text-anchor:start;\" transform=\"rotate(0, 146.035, 1388.81)\" x=\"146.035\" y=\"1388.81\">-</text>\n</g>\n<g clip-path=\"url(#clip3400)\">\n<text style=\"fill:#000000; fill-opacity:1; font-family:Arial,Helvetica Neue,Helvetica,sans-serif; font-size:38px; text-anchor:start;\" transform=\"rotate(0, 168.874, 1388.81)\" x=\"168.874\" y=\"1388.81\">7.5 </text>\n</g>\n<g clip-path=\"url(#clip3400)\">\n<text style=\"fill:#000000; fill-opacity:1; font-family:Arial,Helvetica Neue,Helvetica,sans-serif; font-size:48px; text-anchor:start;\" transform=\"rotate(0, 92.5101, 1314.11)\" x=\"92.5101\" y=\"1314.11\">10</text>\n</g>\n<g clip-path=\"url(#clip3400)\">\n<text style=\"fill:#000000; fill-opacity:1; font-family:Arial,Helvetica Neue,Helvetica,sans-serif; font-size:38px; text-anchor:start;\" transform=\"rotate(0, 146.035, 1286.7)\" x=\"146.035\" y=\"1286.7\">-</text>\n</g>\n<g clip-path=\"url(#clip3400)\">\n<text style=\"fill:#000000; fill-opacity:1; font-family:Arial,Helvetica Neue,Helvetica,sans-serif; font-size:38px; text-anchor:start;\" transform=\"rotate(0, 168.874, 1286.7)\" x=\"168.874\" y=\"1286.7\">5.0 </text>\n</g>\n<g clip-path=\"url(#clip3400)\">\n<text style=\"fill:#000000; fill-opacity:1; font-family:Arial,Helvetica Neue,Helvetica,sans-serif; font-size:48px; text-anchor:start;\" transform=\"rotate(0, 92.5101, 1212)\" x=\"92.5101\" y=\"1212\">10</text>\n</g>\n<g clip-path=\"url(#clip3400)\">\n<text style=\"fill:#000000; fill-opacity:1; font-family:Arial,Helvetica Neue,Helvetica,sans-serif; font-size:38px; text-anchor:start;\" transform=\"rotate(0, 146.035, 1184.59)\" x=\"146.035\" y=\"1184.59\">-</text>\n</g>\n<g clip-path=\"url(#clip3400)\">\n<text style=\"fill:#000000; fill-opacity:1; font-family:Arial,Helvetica Neue,Helvetica,sans-serif; font-size:38px; text-anchor:start;\" transform=\"rotate(0, 168.874, 1184.59)\" x=\"168.874\" y=\"1184.59\">2.5 </text>\n</g>\n<g clip-path=\"url(#clip3400)\">\n<text style=\"fill:#000000; fill-opacity:1; font-family:Arial,Helvetica Neue,Helvetica,sans-serif; font-size:48px; text-anchor:start;\" transform=\"rotate(0, 115.35, 1109.89)\" x=\"115.35\" y=\"1109.89\">10</text>\n</g>\n<g clip-path=\"url(#clip3400)\">\n<text style=\"fill:#000000; fill-opacity:1; font-family:Arial,Helvetica Neue,Helvetica,sans-serif; font-size:38px; text-anchor:start;\" transform=\"rotate(0, 168.874, 1082.48)\" x=\"168.874\" y=\"1082.48\">0.0 </text>\n</g>\n<g clip-path=\"url(#clip3400)\">\n<text style=\"fill:#000000; fill-opacity:1; font-family:Arial,Helvetica Neue,Helvetica,sans-serif; font-size:48px; text-anchor:start;\" transform=\"rotate(0, 115.35, 1007.78)\" x=\"115.35\" y=\"1007.78\">10</text>\n</g>\n<g clip-path=\"url(#clip3400)\">\n<text style=\"fill:#000000; fill-opacity:1; font-family:Arial,Helvetica Neue,Helvetica,sans-serif; font-size:38px; text-anchor:start;\" transform=\"rotate(0, 168.874, 980.37)\" x=\"168.874\" y=\"980.37\">2.5 </text>\n</g>\n<g clip-path=\"url(#clip3400)\">\n<text style=\"fill:#000000; fill-opacity:1; font-family:Arial,Helvetica Neue,Helvetica,sans-serif; font-size:84px; text-anchor:middle;\" transform=\"rotate(0, 1305.43, 873.2)\" x=\"1305.43\" y=\"873.2\">bPSB Trace (35 iterations)</text>\n</g>\n<polyline clip-path=\"url(#clip3403)\" style=\"stroke:#009af9; stroke-width:4; stroke-opacity:1; fill:none\" points=\"\n  317.39,937.688 377.271,969.038 437.153,983.214 497.034,993.772 556.915,1009.81 616.797,1013.91 676.678,1022.2 736.559,1030.19 796.44,1048.5 856.322,1077.21 \n  916.203,1105.56 976.084,1134.24 1035.97,1138.69 1095.85,1148.46 1155.73,1172.49 1215.61,1201.1 1275.49,1228.65 1335.37,1257 1395.25,1284.91 1455.13,1312.76 \n  1515.02,1340.35 1574.9,1367.32 1634.78,1386.53 1694.66,1412.8 1754.54,1412.89 1814.42,1413.09 1874.3,1413.4 1934.19,1414.26 1994.07,1412.79 2053.95,1416.05 \n  2113.83,1421.9 2173.71,1436.81 2233.59,1447.9 2293.47,1471.46 \n  \"/>\n<polyline clip-path=\"url(#clip3403)\" style=\"stroke:#e26f46; stroke-width:4; stroke-opacity:1; fill:none\" points=\"\n  317.39,943.996 377.271,956.311 437.153,965.184 497.034,974.486 556.915,985.549 616.797,990.454 676.678,996.23 736.559,1002.94 796.44,1016.29 856.322,1037.83 \n  916.203,1059.3 976.084,1080.86 1035.97,1084.27 1095.85,1091.76 1155.73,1110.18 1215.61,1131.72 1275.49,1152.89 1335.37,1174.36 1395.25,1195.75 1455.13,1217.07 \n  1515.02,1238.4 1574.9,1259 1634.78,1275.87 1694.66,1296.81 1754.54,1296.9 1814.42,1297.07 1874.3,1297.36 1934.19,1298.12 1994.07,1296.77 2053.95,1299.48 \n  2113.83,1304.7 2173.71,1317.04 2233.59,1327.37 2293.47,1347.75 \n  \"/>\n<path clip-path=\"url(#clip3400)\" d=\"\nM1682.3 1186.64 L2280.76 1186.64 L2280.76 1005.2 L1682.3 1005.2  Z\n  \" fill=\"#ffffff\" fill-rule=\"evenodd\" fill-opacity=\"1\"/>\n<polyline clip-path=\"url(#clip3400)\" style=\"stroke:#000000; stroke-width:4; stroke-opacity:1; fill:none\" points=\"\n  1682.3,1186.64 2280.76,1186.64 2280.76,1005.2 1682.3,1005.2 1682.3,1186.64 \n  \"/>\n<polyline clip-path=\"url(#clip3400)\" style=\"stroke:#009af9; stroke-width:4; stroke-opacity:1; fill:none\" points=\"\n  1706.3,1065.68 1850.3,1065.68 \n  \"/>\n<g clip-path=\"url(#clip3400)\">\n<text style=\"fill:#000000; fill-opacity:1; font-family:Arial,Helvetica Neue,Helvetica,sans-serif; font-size:48px; text-anchor:start;\" transform=\"rotate(0, 1874.3, 1083.18)\" x=\"1874.3\" y=\"1083.18\">Objective</text>\n</g>\n<polyline clip-path=\"url(#clip3400)\" style=\"stroke:#e26f46; stroke-width:4; stroke-opacity:1; fill:none\" points=\"\n  1706.3,1126.16 1850.3,1126.16 \n  \"/>\n<g clip-path=\"url(#clip3400)\">\n<text style=\"fill:#000000; fill-opacity:1; font-family:Arial,Helvetica Neue,Helvetica,sans-serif; font-size:48px; text-anchor:start;\" transform=\"rotate(0, 1874.3, 1143.66)\" x=\"1874.3\" y=\"1143.66\">Normed gradient</text>\n</g>\n</svg>\n"
     },
     "metadata": {},
     "execution_count": 102
    }
   ],
   "metadata": {}
  }
 ],
 "metadata": {
  "orig_nbformat": 4,
  "language_info": {
   "file_extension": ".jl",
   "name": "julia",
   "mimetype": "application/julia",
   "version": "1.6.2"
  },
  "kernelspec": {
   "name": "julia-1.6",
   "display_name": "Julia 1.6.2",
   "language": "julia"
  }
 },
 "nbformat": 4,
 "nbformat_minor": 2
}