{
 "cells": [
  {
   "cell_type": "markdown",
   "metadata": {},
   "source": [
    "# Block Quasi-Newton Updates\n",
    "\n",
    "Out of place symmetric dense updates for H approximating $A^{-1}$ where $DG \\approx A.DX$.\n",
    "\n",
    "In practice $A=\\nabla^2 f(x)$ and $DG$ is either a difference between gradient $g=\\nabla f$ \n",
    "values or one-sided samples from an AD derivative of $g$. \n",
    "\n",
    "Currently no dimension or type checking! "
   ]
  },
  {
   "cell_type": "markdown",
   "metadata": {},
   "source": [
    "## Notes\n",
    " 1. I am going to experiment with truncating the  pseudo inverse \n",
    "more aggressively than usual. I am going to call this \n",
    "*throttling*. \n",
    "\n",
    "1. We can not use a Cholesky because we do not \n",
    "know the update is consistent with +def.\n",
    "\n",
    "1. I have a new reference for \n",
    "the PSB (and which I am using for all the others as well) \n",
    "On the Derivation of Quasi-Newton Formulas for\n",
    "Optimization in Function Spaces\n",
    "Radoslav G. Vuchkov, Cosmin G. Petra & Noémi Petra\n",
    "Radoslav G. Vuchkov, Cosmin G. Petra & Noémi Petra (2020) On the\n",
    "Derivation of Quasi-Newton Formulas for Optimization in \n",
    "Function Spaces, Numerical Functional\n",
    "Analysis and Optimization, 41:13, 1564-1587, \n",
    "DOI: 10.1080/01630563.2020.1785496\n",
    "Link: https://doi.org/10.1080/01630563.2020.1785496\n",
    "\n",
    "1. I have found more recent references and which contains a block PSB and is focused on issues of symmetry.\n",
    "@article{Boutet_2020,\n",
    "\tdoi = {10.1007/s10589-019-00164-z},\n",
    "\turl = {https://doi.org/10.1007%2Fs10589-019-00164-z},\n",
    "\tyear = 2020,\n",
    "\tmonth = {jan},\n",
    "\tpublisher = {Springer Science and Business Media {LLC}},\n",
    "\tvolume = {75},\n",
    "\tnumber = {2},\n",
    "\tpages = {441--466},\n",
    "\tauthor = {Nicolas Boutet and Rob Haelterman and Joris Degroote},\n",
    "\ttitle = {Secant update version of quasi-Newton {PSB} with weighted multisecant equations},\n",
    "\tjournal = {Computational Optimization and Applications}\n",
    "}\n",
    "This article lists losts of stuff but not an H version of the Block PSB. \n",
    "\n",
    "1. Our symmetry issues are much less!  The AD updates are perfectly symmetric.  We have one secant update that is \n",
    "potentially in minor conflict with symmetry.  We can do the AD block update and the single secant update in either order. \n",
    "in either order. \n"
   ]
  },
  {
   "cell_type": "markdown",
   "metadata": {},
   "source": [
    "## SRMin \n",
    "\n",
    "Direct extension of SR1 to multiple vectors.  Remember it is self dual.\n",
    "\n",
    "Derivation is simple\n",
    "$$\n",
    "(H + D H ) DG = DX \n",
    "\\\\\n",
    "\\Delta H  DG = DX - H DG\n",
    "$$\n",
    "and so\n",
    "$$\n",
    "DH = (DX - H DG) \\Gamma (DX - H DG)^\\top.\n",
    "$$\n",
    "Defining $T=(DX - H DG)$ which we assume to be full rank \n",
    "and substituting into the equations\n",
    "gives \n",
    "$$\n",
    "T \\Gamma T^\\top  DG = T \n",
    "\\\\\n",
    "T^\\top T \\Gamma T^\\top  DG = T^\\top T\n",
    "\\\\\n",
    "\\Gamma T^\\top  DG = I\n",
    "$$\n",
    "All we need to do is compute $\\Gamma = (T^\\top  DG)^{-1} = ((DX - H DG)^\\top DG)^{-1}$ and plug back in."
   ]
  },
  {
   "cell_type": "code",
   "execution_count": 120,
   "metadata": {},
   "outputs": [
    {
     "data": {
      "text/plain": [
       "SRMin_H (generic function with 1 method)"
      ]
     },
     "execution_count": 120,
     "metadata": {},
     "output_type": "execute_result"
    }
   ],
   "source": [
    "using LinearAlgebra\n",
    "function SRMin_H(H, DX, DG)\n",
    "    # The optional truncation parameter for the Pseudo Inverse pinv(M, tol) should be investigated. \n",
    "    T = (DX-H*DG);   \n",
    "    # This should be made more efficient to avoid assignments and return updates in place\n",
    "    H + T*pinv(T'*DG)*T' \n",
    "end"
   ]
  },
  {
   "cell_type": "markdown",
   "metadata": {},
   "source": [
    "# BFGS\n",
    "\n",
    "Block BFGS:  Broyden Fletcher Goldfarb Shanno\n",
    "\n",
    "2020: Ref p1565 Dx is s and DG is y"
   ]
  },
  {
   "cell_type": "code",
   "execution_count": 115,
   "metadata": {},
   "outputs": [
    {
     "data": {
      "text/plain": [
       "BFGS_H (generic function with 1 method)"
      ]
     },
     "execution_count": 115,
     "metadata": {},
     "output_type": "execute_result"
    }
   ],
   "source": [
    "function BFGS_H(H, DX, DG)\n",
    "    Gamma = pinv(DX'*DG)   # Symmetric if DG = A*Dx \n",
    "    (I - DX*Gamma*DG')*H*(I - DG*Gamma*DX') + DX*Gamma*DX' # Julia magic instantiates an identity matrix!\n",
    "end"
   ]
  },
  {
   "cell_type": "markdown",
   "metadata": {},
   "source": [
    "# DFP\n",
    "Block DFP: Davidon Fletcher Powell\n",
    "\n",
    "2020: Ref p1565 Dx is s and DG is y"
   ]
  },
  {
   "cell_type": "code",
   "execution_count": 116,
   "metadata": {},
   "outputs": [
    {
     "data": {
      "text/plain": [
       "DFP_H (generic function with 1 method)"
      ]
     },
     "execution_count": 116,
     "metadata": {},
     "output_type": "execute_result"
    }
   ],
   "source": [
    "function DFP_H(H, DX, DG)\n",
    "    HDG=H*DG\n",
    "    Gamma1 = pinv(DX'*DG)    # Symmetric if DG = A*Dx\n",
    "    Gamma2 = pinv(DG'*HDG)   # Symmetric\n",
    "    H - HDG*Gamma2*HDG' + DX*Gamma1*DX'\n",
    "end"
   ]
  },
  {
   "cell_type": "markdown",
   "metadata": {},
   "source": [
    "# PSB\n",
    "Block Powell Symmetric Broyden: \n",
    "\n",
    "Nicolas Boutet and Rob Haelterman and Joris Degroote: Ref p6 DX is S and DG is Y\n",
    "Formula below Formula 4 has typos! \n",
    "\n",
    "Back to Robert Schnabel \n",
    "Quasi-Newton Methods Using Multiple Secant equations\n",
    "CU-CS-247-83 Eq 3.6 p19.  As before DX is S and DG is Y\n",
    "**BUT** H is the approximation to A **not** $A^{-1}$.\n",
    "Since everything this is self dual I get the inverse\n",
    "formula by flipping DX and DG.\n",
    "\n",
    "## Notes\n",
    "1. This is S1 from LOD.\n",
    "1. It is symmetrized with a correction term.  "
   ]
  },
  {
   "cell_type": "code",
   "execution_count": 141,
   "metadata": {},
   "outputs": [
    {
     "data": {
      "text/plain": [
       "PSB_H (generic function with 1 method)"
      ]
     },
     "execution_count": 141,
     "metadata": {},
     "output_type": "execute_result"
    }
   ],
   "source": [
    "using LinearAlgebra\n",
    "function PSB_H(H, DX, DG)\n",
    "    DGpInv = DG*pinv(DG'*DG)\n",
    "    DXMinusHDG = DX - H*DG\n",
    "    H + DGpInv*DXMinusHDG' + DXMinusHDG*DGpInv' - DGpInv*DXMinusHDG'*DGpInv*DG'\n",
    "end"
   ]
  },
  {
   "cell_type": "markdown",
   "metadata": {},
   "source": [
    "# Testing Symmetric\n",
    "I am testing on symmetric data first. "
   ]
  },
  {
   "cell_type": "markdown",
   "metadata": {},
   "source": [
    "# Symmetric test\n",
    "\n",
    "```julia\n",
    "n=56; s=13; eps = 1.0*10^-1\n",
    "A=rand(n,n); A=A+A'; \n",
    "H0 = inv(A) + eps*rand(n,n); H0=H0+H0';\n",
    "DX = rand(n,s); DG = A*DX; \n",
    "HSRM = SRMin_H(H0, DX, DG) \n",
    "HBFG =  BFGS_H(H0, DX, DG) \n",
    "HDF  =   DFP_H(H0, DX, DG) \n",
    "HPSB =   PSB_H(H0, DX, DG) \n",
    "println(\"residuals = \", map(H -> norm(H*DG - DX), [HSRM, HBFG, HDF, HPSB])/norm(H0))\n",
    "println(\"sym mismathc = \", map(H -> norm(H-H'), [HSRM, HBFG, HDF, HPSB])/norm(H0))\n",
    "println(\"|H-#| = \", map(H -> norm(H-H0), [HSRM, HBFG, HDF, HPSB])/norm(H0))"
   ]
  },
  {
   "cell_type": "markdown",
   "metadata": {},
   "source": [
    "Messing with the data a smidge! This is the circumstance that can break things.  As you can see there\n",
    "the output is much less symmetric"
   ]
  },
  {
   "cell_type": "markdown",
   "metadata": {},
   "source": [
    "# Symmetry Breaking test\n",
    "\n",
    "```julia \n",
    "n=56; s=3; eps = 1.0*10^-1; eps2 = 1.0*10^-2;\n",
    "A=rand(n,n); A=A+A'; \n",
    "invA=inv(A);\n",
    "H0 = invA + eps*rand(n,n); H0=H0+H0';\n",
    "DX = rand(n,s); DG = A*DX + eps2*rand(n,s); \n",
    "HSRM = SRMin_H(H0, DX, DG) \n",
    "HBFG =  BFGS_H(H0, DX, DG) \n",
    "HDFP  =   DFP_H(H0, DX, DG) \n",
    "HPSB =   PSB_H(H0, DX, DG) \n",
    "println(\"residuals = \", map(H -> norm(H*DG - DX), [HSRM, HBFG, HDFP, HPSB])/norm(H0))\n",
    "println(\"sym mismatch = \", map(H -> norm(H-H'), [HSRM, HBFG, HDFP, HPSB])/norm(H0))\n",
    "println(\"|H0-#| = \", map(H -> norm(H-H0), [HSRM, HBFG, HDFP, HPSB])/norm(H0))\n",
    "println(\"|inv(A)-#| rel = \", map(H -> norm(H-invA), [HSRM, HBFG, HDFP, HPSB])/norm(H0-invA))\n",
    "println(\"|A-inv(#)| rel = \", map(H -> norm(inv(H)-A), [HSRM, HBFG, HDFP, HPSB])/norm(inv(H0)-A))"
   ]
  },
  {
   "cell_type": "code",
   "execution_count": null,
   "metadata": {},
   "outputs": [],
   "source": [
    "Wish I understood why they behave like this.  It looks as though PSB is pretty OK.  "
   ]
  }
 ],
 "metadata": {
  "kernelspec": {
   "display_name": "Julia 1.6.0",
   "language": "julia",
   "name": "julia-1.6"
  },
  "language_info": {
   "file_extension": ".jl",
   "mimetype": "application/julia",
   "name": "julia",
   "version": "1.6.0"
  }
 },
 "nbformat": 4,
 "nbformat_minor": 4
}
